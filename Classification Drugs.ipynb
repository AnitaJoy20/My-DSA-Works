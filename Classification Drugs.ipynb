{
 "cells": [
  {
   "cell_type": "code",
   "execution_count": 1,
   "id": "5a92af2a",
   "metadata": {},
   "outputs": [],
   "source": [
    "import numpy as np\n",
    "import pandas as pd\n",
    "from random import choice, sample\n",
    "import matplotlib.pyplot as plt\n",
    "import seaborn as sns\n",
    "%matplotlib inline\n",
    "\n",
    "from sklearn.preprocessing import PowerTransformer\n",
    "from sklearn.preprocessing import MinMaxScaler\n",
    "from sklearn.pipeline import Pipeline"
   ]
  },
  {
   "cell_type": "code",
   "execution_count": 2,
   "id": "4e14761e",
   "metadata": {},
   "outputs": [],
   "source": [
    "plt.rcParams['font.family'] = 'sans-serif'"
   ]
  },
  {
   "cell_type": "markdown",
   "id": "9210a20a",
   "metadata": {},
   "source": [
    "Loading data into 'data'"
   ]
  },
  {
   "cell_type": "code",
   "execution_count": 3,
   "id": "78d1a99a",
   "metadata": {},
   "outputs": [],
   "source": [
    "data= pd.read_excel(r'C:\\Users\\AD15855\\OneDrive - Lumen\\Desktop\\DS Related\\DSA\\DSA TCS ion\\dataset.xlsx')"
   ]
  },
  {
   "cell_type": "markdown",
   "id": "79dcb411",
   "metadata": {},
   "source": [
    "Analysing Data"
   ]
  },
  {
   "cell_type": "code",
   "execution_count": 4,
   "id": "4ca41150",
   "metadata": {},
   "outputs": [
    {
     "name": "stdout",
     "output_type": "stream",
     "text": [
      "<class 'pandas.core.frame.DataFrame'>\n",
      "RangeIndex: 362806 entries, 0 to 362805\n",
      "Data columns (total 14 columns):\n",
      " #   Column         Non-Null Count   Dtype \n",
      "---  ------         --------------   ----- \n",
      " 0   Age            362806 non-null  object\n",
      " 1   Condition      362806 non-null  object\n",
      " 2   Date           362806 non-null  object\n",
      " 3   Drug           362806 non-null  object\n",
      " 4   DrugId         362806 non-null  int64 \n",
      " 5   EaseofUse      362806 non-null  int64 \n",
      " 6   Effectiveness  362806 non-null  int64 \n",
      " 7   Reviews        362757 non-null  object\n",
      " 8   Satisfaction   362806 non-null  int64 \n",
      " 9   Sex            362806 non-null  object\n",
      " 10  Sides          362806 non-null  object\n",
      " 11  UsefulCount    362806 non-null  int64 \n",
      " 12  Patient Name   362806 non-null  object\n",
      " 13  Race           362806 non-null  object\n",
      "dtypes: int64(5), object(9)\n",
      "memory usage: 38.8+ MB\n"
     ]
    }
   ],
   "source": [
    "data.info()"
   ]
  },
  {
   "cell_type": "code",
   "execution_count": 5,
   "id": "a30f4392",
   "metadata": {},
   "outputs": [
    {
     "data": {
      "text/plain": [
       "Index(['Age', 'Condition', 'Date', 'Drug', 'DrugId', 'EaseofUse',\n",
       "       'Effectiveness', 'Reviews', 'Satisfaction', 'Sex', 'Sides',\n",
       "       'UsefulCount', 'Patient Name', 'Race'],\n",
       "      dtype='object')"
      ]
     },
     "execution_count": 5,
     "metadata": {},
     "output_type": "execute_result"
    }
   ],
   "source": [
    "data.columns"
   ]
  },
  {
   "cell_type": "code",
   "execution_count": 6,
   "id": "f23e5e89",
   "metadata": {},
   "outputs": [
    {
     "data": {
      "text/html": [
       "<div>\n",
       "<style scoped>\n",
       "    .dataframe tbody tr th:only-of-type {\n",
       "        vertical-align: middle;\n",
       "    }\n",
       "\n",
       "    .dataframe tbody tr th {\n",
       "        vertical-align: top;\n",
       "    }\n",
       "\n",
       "    .dataframe thead th {\n",
       "        text-align: right;\n",
       "    }\n",
       "</style>\n",
       "<table border=\"1\" class=\"dataframe\">\n",
       "  <thead>\n",
       "    <tr style=\"text-align: right;\">\n",
       "      <th></th>\n",
       "      <th>DrugId</th>\n",
       "      <th>EaseofUse</th>\n",
       "      <th>Effectiveness</th>\n",
       "      <th>Satisfaction</th>\n",
       "      <th>UsefulCount</th>\n",
       "    </tr>\n",
       "  </thead>\n",
       "  <tbody>\n",
       "    <tr>\n",
       "      <th>count</th>\n",
       "      <td>362806.000000</td>\n",
       "      <td>362806.000000</td>\n",
       "      <td>362806.000000</td>\n",
       "      <td>362806.000000</td>\n",
       "      <td>362806.000000</td>\n",
       "    </tr>\n",
       "    <tr>\n",
       "      <th>mean</th>\n",
       "      <td>36879.370774</td>\n",
       "      <td>4.019829</td>\n",
       "      <td>3.532061</td>\n",
       "      <td>3.135408</td>\n",
       "      <td>6.744916</td>\n",
       "    </tr>\n",
       "    <tr>\n",
       "      <th>std</th>\n",
       "      <td>52624.412971</td>\n",
       "      <td>1.317711</td>\n",
       "      <td>1.455961</td>\n",
       "      <td>1.611106</td>\n",
       "      <td>9.324240</td>\n",
       "    </tr>\n",
       "    <tr>\n",
       "      <th>min</th>\n",
       "      <td>1.000000</td>\n",
       "      <td>1.000000</td>\n",
       "      <td>1.000000</td>\n",
       "      <td>1.000000</td>\n",
       "      <td>0.000000</td>\n",
       "    </tr>\n",
       "    <tr>\n",
       "      <th>25%</th>\n",
       "      <td>4896.000000</td>\n",
       "      <td>3.000000</td>\n",
       "      <td>3.000000</td>\n",
       "      <td>1.000000</td>\n",
       "      <td>1.000000</td>\n",
       "    </tr>\n",
       "    <tr>\n",
       "      <th>50%</th>\n",
       "      <td>9548.000000</td>\n",
       "      <td>5.000000</td>\n",
       "      <td>4.000000</td>\n",
       "      <td>3.000000</td>\n",
       "      <td>4.000000</td>\n",
       "    </tr>\n",
       "    <tr>\n",
       "      <th>75%</th>\n",
       "      <td>63522.000000</td>\n",
       "      <td>5.000000</td>\n",
       "      <td>5.000000</td>\n",
       "      <td>5.000000</td>\n",
       "      <td>9.000000</td>\n",
       "    </tr>\n",
       "    <tr>\n",
       "      <th>max</th>\n",
       "      <td>178546.000000</td>\n",
       "      <td>10.000000</td>\n",
       "      <td>10.000000</td>\n",
       "      <td>10.000000</td>\n",
       "      <td>255.000000</td>\n",
       "    </tr>\n",
       "  </tbody>\n",
       "</table>\n",
       "</div>"
      ],
      "text/plain": [
       "              DrugId      EaseofUse  Effectiveness   Satisfaction  \\\n",
       "count  362806.000000  362806.000000  362806.000000  362806.000000   \n",
       "mean    36879.370774       4.019829       3.532061       3.135408   \n",
       "std     52624.412971       1.317711       1.455961       1.611106   \n",
       "min         1.000000       1.000000       1.000000       1.000000   \n",
       "25%      4896.000000       3.000000       3.000000       1.000000   \n",
       "50%      9548.000000       5.000000       4.000000       3.000000   \n",
       "75%     63522.000000       5.000000       5.000000       5.000000   \n",
       "max    178546.000000      10.000000      10.000000      10.000000   \n",
       "\n",
       "         UsefulCount  \n",
       "count  362806.000000  \n",
       "mean        6.744916  \n",
       "std         9.324240  \n",
       "min         0.000000  \n",
       "25%         1.000000  \n",
       "50%         4.000000  \n",
       "75%         9.000000  \n",
       "max       255.000000  "
      ]
     },
     "execution_count": 6,
     "metadata": {},
     "output_type": "execute_result"
    }
   ],
   "source": [
    "data.describe()"
   ]
  },
  {
   "cell_type": "code",
   "execution_count": 7,
   "id": "b8b8fcc9",
   "metadata": {},
   "outputs": [
    {
     "data": {
      "text/plain": [
       "Age               0\n",
       "Condition         0\n",
       "Date              0\n",
       "Drug              0\n",
       "DrugId            0\n",
       "EaseofUse         0\n",
       "Effectiveness     0\n",
       "Reviews          49\n",
       "Satisfaction      0\n",
       "Sex               0\n",
       "Sides             0\n",
       "UsefulCount       0\n",
       "Patient Name      0\n",
       "Race              0\n",
       "dtype: int64"
      ]
     },
     "execution_count": 7,
     "metadata": {},
     "output_type": "execute_result"
    }
   ],
   "source": [
    "data.isna().sum()"
   ]
  },
  {
   "cell_type": "code",
   "execution_count": 8,
   "id": "b7ee2205",
   "metadata": {},
   "outputs": [
    {
     "data": {
      "text/plain": [
       "Age              12202\n",
       "Condition           43\n",
       "Date                 0\n",
       "Drug                 0\n",
       "DrugId               0\n",
       "EaseofUse            0\n",
       "Effectiveness        0\n",
       "Reviews          41873\n",
       "Satisfaction         0\n",
       "Sex              26537\n",
       "Sides            17460\n",
       "UsefulCount          0\n",
       "Patient Name         0\n",
       "Race                 0\n",
       "dtype: int64"
      ]
     },
     "execution_count": 8,
     "metadata": {},
     "output_type": "execute_result"
    }
   ],
   "source": [
    "# Handling instances with whitespaces\n",
    "for i in data:\n",
    "    data[i]=np.where(data[i]==\" \",np.NAN,data[i])\n",
    "    \n",
    "data.isna().sum()"
   ]
  },
  {
   "cell_type": "code",
   "execution_count": 9,
   "id": "1230ef3e",
   "metadata": {},
   "outputs": [
    {
     "data": {
      "text/plain": [
       "Age              0\n",
       "Condition        0\n",
       "Date             0\n",
       "Drug             0\n",
       "DrugId           0\n",
       "EaseofUse        0\n",
       "Effectiveness    0\n",
       "Reviews          0\n",
       "Satisfaction     0\n",
       "Sex              0\n",
       "Sides            0\n",
       "UsefulCount      0\n",
       "Patient Name     0\n",
       "Race             0\n",
       "dtype: int64"
      ]
     },
     "execution_count": 9,
     "metadata": {},
     "output_type": "execute_result"
    }
   ],
   "source": [
    "data.dropna(axis=0, inplace = True)\n",
    "data.isna().sum()"
   ]
  },
  {
   "cell_type": "code",
   "execution_count": 10,
   "id": "dc73704f",
   "metadata": {},
   "outputs": [
    {
     "data": {
      "text/plain": [
       "Age              0\n",
       "Condition        0\n",
       "Date             0\n",
       "Drug             0\n",
       "DrugId           0\n",
       "EaseofUse        0\n",
       "Effectiveness    0\n",
       "Reviews          4\n",
       "Satisfaction     0\n",
       "Sex              0\n",
       "Sides            0\n",
       "UsefulCount      0\n",
       "Patient Name     0\n",
       "Race             0\n",
       "dtype: int64"
      ]
     },
     "execution_count": 10,
     "metadata": {},
     "output_type": "execute_result"
    }
   ],
   "source": [
    "# Handling instances with double whitespaces\n",
    "for i in data:\n",
    "    data[i]=np.where(data[i]==\"  \",np.NAN,data[i])\n",
    "    \n",
    "data.isna().sum()"
   ]
  },
  {
   "cell_type": "markdown",
   "id": "ad9e83f8",
   "metadata": {},
   "source": [
    "Only review have null values"
   ]
  },
  {
   "cell_type": "code",
   "execution_count": 11,
   "id": "6703a0a1",
   "metadata": {},
   "outputs": [
    {
     "data": {
      "text/plain": [
       "Female    202976\n",
       "Male       77141\n",
       "Name: Sex, dtype: int64"
      ]
     },
     "execution_count": 11,
     "metadata": {},
     "output_type": "execute_result"
    }
   ],
   "source": [
    "data.Sex.value_counts()"
   ]
  },
  {
   "cell_type": "code",
   "execution_count": 12,
   "id": "55da0fff",
   "metadata": {},
   "outputs": [
    {
     "data": {
      "text/plain": [
       "45-54                  64122\n",
       "55-64                  57464\n",
       "35-44                  45467\n",
       "25-34                  42799\n",
       "65-74                  29982\n",
       "19-24                  21232\n",
       "75 or over             10727\n",
       "13-18                   5974\n",
       "2023-12-07 00:00:00     1334\n",
       "2023-06-03 00:00:00      623\n",
       "0-2                      393\n",
       "Name: Age, dtype: int64"
      ]
     },
     "execution_count": 12,
     "metadata": {},
     "output_type": "execute_result"
    }
   ],
   "source": [
    "data.Age.value_counts()"
   ]
  },
  {
   "cell_type": "code",
   "execution_count": 13,
   "id": "99c6a23f",
   "metadata": {},
   "outputs": [],
   "source": [
    "data['Year'] = pd.to_datetime(data['Date'], errors='coerce').dt.year\n",
    "data['Month'] = pd.to_datetime(data['Date'], errors='coerce').dt.month\n",
    "data['day_of_week'] = pd.to_datetime(data['Date'], errors='coerce').dt.day_name()"
   ]
  },
  {
   "cell_type": "code",
   "execution_count": 14,
   "id": "7fbb16f4",
   "metadata": {},
   "outputs": [
    {
     "data": {
      "text/plain": [
       "3.3328297402485516"
      ]
     },
     "execution_count": 14,
     "metadata": {},
     "output_type": "execute_result"
    },
    {
     "data": {
      "image/png": "[encoded data removed]",
      "text/plain": [
       "<Figure size 1000x600 with 2 Axes>"
      ]
     },
     "metadata": {},
     "output_type": "display_data"
    }
   ],
   "source": [
    "plt.figure(figsize=(10,6))\n",
    "\n",
    "plt.subplot(2,2,1)\n",
    "plt.boxplot(data[\"UsefulCount\"])\n",
    "plt.title(\" Box Plot\")\n",
    "\n",
    "plt.subplot(2,2,2)\n",
    "plt.hist(data[\"UsefulCount\"])\n",
    "plt.title(\" Histogram\")\n",
    "data.UsefulCount.skew()"
   ]
  },
  {
   "cell_type": "code",
   "execution_count": 15,
   "id": "d428e379",
   "metadata": {},
   "outputs": [
    {
     "data": {
      "text/plain": [
       "0.370753160563002"
      ]
     },
     "execution_count": 15,
     "metadata": {},
     "output_type": "execute_result"
    },
    {
     "data": {
      "image/png": "[encoded data removed]",
      "text/plain": [
       "<Figure size 1000x600 with 2 Axes>"
      ]
     },
     "metadata": {},
     "output_type": "display_data"
    }
   ],
   "source": [
    "data_Usefulcount = pd.DataFrame(data['UsefulCount'])\n",
    "\n",
    "scaler = MinMaxScaler(feature_range=(1, 2))\n",
    "power = PowerTransformer(method='box-cox')\n",
    "pipeline = Pipeline(steps=[('s', scaler),('p', power)])\n",
    "data_Usefulcount1 = pipeline.fit_transform(data_Usefulcount)\n",
    "\n",
    "plt.figure(figsize=(10,6))\n",
    "\n",
    "plt.subplot(2,2,1)\n",
    "plt.boxplot(data_Usefulcount1)\n",
    "plt.title(\" Box Plot\")\n",
    "\n",
    "plt.subplot(2,2,2)\n",
    "plt.hist(data_Usefulcount1)\n",
    "plt.title(\" Histogram\")\n",
    "\n",
    "data['UsefulCount_boxcox'] = data_Usefulcount1\n",
    "data['UsefulCount_boxcox'].skew()"
   ]
  },
  {
   "cell_type": "code",
   "execution_count": 16,
   "id": "967e5d5f",
   "metadata": {},
   "outputs": [
    {
     "data": {
      "text/plain": [
       "<bound method NDFrame._add_numeric_operations.<locals>.skew of 0         5.0\n",
       "1         5.0\n",
       "6         5.0\n",
       "7         5.0\n",
       "9         4.0\n",
       "         ... \n",
       "362799    2.0\n",
       "362801    5.0\n",
       "362803    2.0\n",
       "362804    5.0\n",
       "362805    4.0\n",
       "Name: EaseofUse, Length: 280117, dtype: float64>"
      ]
     },
     "execution_count": 16,
     "metadata": {},
     "output_type": "execute_result"
    },
    {
     "data": {
      "image/png": "[encoded data removed]",
      "text/plain": [
       "<Figure size 1000x600 with 2 Axes>"
      ]
     },
     "metadata": {},
     "output_type": "display_data"
    }
   ],
   "source": [
    "plt.figure(figsize=(10,6))\n",
    "\n",
    "plt.subplot(2,2,1)\n",
    "plt.boxplot(data[\"EaseofUse\"])\n",
    "plt.title(\" Box Plot\")\n",
    "\n",
    "plt.subplot(2,2,2)\n",
    "plt.hist(data[\"EaseofUse\"])\n",
    "plt.title(\" Histogram\")\n",
    "data.EaseofUse.skew"
   ]
  },
  {
   "cell_type": "code",
   "execution_count": 17,
   "id": "1c0dfaed",
   "metadata": {},
   "outputs": [
    {
     "data": {
      "text/plain": [
       "-0.568068746106967"
      ]
     },
     "execution_count": 17,
     "metadata": {},
     "output_type": "execute_result"
    },
    {
     "data": {
      "image/png": "[encoded data removed]",
      "text/plain": [
       "<Figure size 1000x600 with 2 Axes>"
      ]
     },
     "metadata": {},
     "output_type": "display_data"
    }
   ],
   "source": [
    "scaler = MinMaxScaler(feature_range=(1, 2))\n",
    "power = PowerTransformer(method='box-cox')\n",
    "pipeline = Pipeline(steps=[('s', scaler),('p', power)])\n",
    "\n",
    "data_EaseofUse = pd.DataFrame(data['EaseofUse'])\n",
    "data_EaseofUse1 = pipeline.fit_transform(data_EaseofUse)\n",
    "\n",
    "plt.figure(figsize=(10,6))\n",
    "\n",
    "plt.subplot(2,2,1)\n",
    "plt.boxplot(data_EaseofUse1)\n",
    "plt.title(\" Box Plot\")\n",
    "\n",
    "plt.subplot(2,2,2)\n",
    "plt.hist(data_EaseofUse1)\n",
    "plt.title(\" Histogram\")\n",
    "\n",
    "data['EaseofUse_boxcox'] = data_EaseofUse1\n",
    "data.EaseofUse_boxcox.skew()"
   ]
  },
  {
   "cell_type": "markdown",
   "id": "86080b20",
   "metadata": {},
   "source": [
    "Effectiveness"
   ]
  },
  {
   "cell_type": "code",
   "execution_count": 18,
   "id": "526bf272",
   "metadata": {},
   "outputs": [
    {
     "data": {
      "text/plain": [
       "-0.5892830024617304"
      ]
     },
     "execution_count": 18,
     "metadata": {},
     "output_type": "execute_result"
    },
    {
     "data": {
      "image/png": "[encoded data removed]",
      "text/plain": [
       "<Figure size 1000x600 with 2 Axes>"
      ]
     },
     "metadata": {},
     "output_type": "display_data"
    }
   ],
   "source": [
    "plt.figure(figsize=(10,6))\n",
    "\n",
    "plt.subplot(2,2,1)\n",
    "plt.boxplot(data[\"Effectiveness\"])\n",
    "plt.title(\" Box Plot\")\n",
    "\n",
    "plt.subplot(2,2,2)\n",
    "plt.hist(data[\"Effectiveness\"])\n",
    "plt.title(\" Histogram\")\n",
    "data.Effectiveness.skew()"
   ]
  },
  {
   "cell_type": "markdown",
   "id": "3896249b",
   "metadata": {},
   "source": [
    "New Feature creation: Sideeffect"
   ]
  },
  {
   "cell_type": "code",
   "execution_count": 19,
   "id": "3c930800",
   "metadata": {},
   "outputs": [],
   "source": [
    "mapping = {1: 5, 2: 4, 3: 3, 4: 2, 5: 1}\n",
    "data['Sideeffect'] = data['Satisfaction'].map(mapping)\n"
   ]
  },
  {
   "cell_type": "code",
   "execution_count": 20,
   "id": "78825f4c",
   "metadata": {},
   "outputs": [
    {
     "data": {
      "text/plain": [
       "Age                   0\n",
       "Condition             0\n",
       "Date                  0\n",
       "Drug                  0\n",
       "DrugId                0\n",
       "EaseofUse             0\n",
       "Effectiveness         0\n",
       "Reviews               0\n",
       "Satisfaction          0\n",
       "Sex                   0\n",
       "Sides                 0\n",
       "UsefulCount           0\n",
       "Patient Name          0\n",
       "Race                  0\n",
       "Year                  0\n",
       "Month                 0\n",
       "day_of_week           0\n",
       "UsefulCount_boxcox    0\n",
       "EaseofUse_boxcox      0\n",
       "Sideeffect            0\n",
       "dtype: int64"
      ]
     },
     "execution_count": 20,
     "metadata": {},
     "output_type": "execute_result"
    }
   ],
   "source": [
    "data.dropna(axis=0, inplace = True)\n",
    "data.isna().sum()"
   ]
  },
  {
   "cell_type": "code",
   "execution_count": 21,
   "id": "eb38f1da",
   "metadata": {},
   "outputs": [
    {
     "data": {
      "text/plain": [
       "Index(['Age', 'Condition', 'Date', 'Drug', 'DrugId', 'EaseofUse',\n",
       "       'Effectiveness', 'Reviews', 'Satisfaction', 'Sex', 'Sides',\n",
       "       'UsefulCount', 'Patient Name', 'Race', 'Year', 'Month', 'day_of_week',\n",
       "       'UsefulCount_boxcox', 'EaseofUse_boxcox', 'Sideeffect'],\n",
       "      dtype='object')"
      ]
     },
     "execution_count": 21,
     "metadata": {},
     "output_type": "execute_result"
    }
   ],
   "source": [
    "data.columns"
   ]
  },
  {
   "cell_type": "markdown",
   "id": "8b7229be",
   "metadata": {},
   "source": [
    "Exploratory Data Analysis"
   ]
  },
  {
   "cell_type": "code",
   "execution_count": 22,
   "id": "1acb5218",
   "metadata": {},
   "outputs": [
    {
     "data": {
      "image/png": "[encoded data removed]",
      "text/plain": [
       "<Figure size 640x480 with 1 Axes>"
      ]
     },
     "metadata": {},
     "output_type": "display_data"
    }
   ],
   "source": [
    "data_= data['Drug'].value_counts().head(20).reset_index()\n",
    "data_.columns = ['Drug', 'Name']\n",
    "sns.barplot(data=data_, x = 'Drug', y = 'Name')\n",
    "plt.suptitle(\"Top 20 Drugs\")\n",
    "plt.xticks(rotation=90,fontsize=10)\n",
    "plt.show()"
   ]
  },
  {
   "cell_type": "markdown",
   "id": "682d1136",
   "metadata": {},
   "source": [
    "Cymbalta tops the list followed by Lisinopril. It is to be noted that all the 20 drugs has been used by more than atleast 2000 people"
   ]
  },
  {
   "cell_type": "code",
   "execution_count": 23,
   "id": "2e3e02f1",
   "metadata": {},
   "outputs": [
    {
     "data": {
      "text/plain": [
       "Text(0, 0.5, 'Users')"
      ]
     },
     "execution_count": 23,
     "metadata": {},
     "output_type": "execute_result"
    },
    {
     "data": {
      "image/png": "[encoded data removed]",
      "text/plain": [
       "<Figure size 800x800 with 1 Axes>"
      ]
     },
     "metadata": {},
     "output_type": "display_data"
    }
   ],
   "source": [
    "data['Condition'].value_counts().nlargest(20).plot(kind='bar',figsize=(8,8))\n",
    "plt.suptitle(\"Top 15 Conditions\")\n",
    "plt.xlabel('Conditions')\n",
    "plt.ylabel('Users')"
   ]
  },
  {
   "cell_type": "markdown",
   "id": "e0d63b22",
   "metadata": {},
   "source": [
    "Which Gender is the predominant user"
   ]
  },
  {
   "cell_type": "code",
   "execution_count": 24,
   "id": "1de2bc8a",
   "metadata": {},
   "outputs": [
    {
     "data": {
      "image/png": "[encoded data removed]",
      "text/plain": [
       "<Figure size 400x400 with 1 Axes>"
      ]
     },
     "metadata": {},
     "output_type": "display_data"
    }
   ],
   "source": [
    "plt.figure(figsize = (4,4))\n",
    "s=sns.countplot(x='Sex', data=data)\n",
    "plt.title('Users by Gender', fontsize=15)\n",
    "plt.xlabel('Sex')\n",
    "plt.ylabel('Count') \n",
    "plt.show()"
   ]
  },
  {
   "cell_type": "markdown",
   "id": "5d73da0b",
   "metadata": {},
   "source": [
    "Thus we conclude that its Female"
   ]
  },
  {
   "cell_type": "markdown",
   "id": "0dd1eb98",
   "metadata": {},
   "source": [
    "Which Race is the predominant user"
   ]
  },
  {
   "cell_type": "code",
   "execution_count": 25,
   "id": "5634dc6a",
   "metadata": {},
   "outputs": [
    {
     "data": {
      "text/plain": [
       "Text(0, 0.5, 'Count')"
      ]
     },
     "execution_count": 25,
     "metadata": {},
     "output_type": "execute_result"
    },
    {
     "data": {
      "image/png": "[encoded data removed]",
      "text/plain": [
       "<Figure size 640x480 with 1 Axes>"
      ]
     },
     "metadata": {},
     "output_type": "display_data"
    }
   ],
   "source": [
    "data['Race'].value_counts().plot(kind='bar')\n",
    "plt.title(\"Race\", fontsize = 10)\n",
    "plt.xlabel(\"Race\", fontsize = 10)\n",
    "plt.ylabel(\"Count\", fontsize = 10)"
   ]
  },
  {
   "cell_type": "markdown",
   "id": "9135bfc9",
   "metadata": {},
   "source": [
    "We saw that its Asians"
   ]
  },
  {
   "cell_type": "code",
   "execution_count": 26,
   "id": "82d59c53",
   "metadata": {},
   "outputs": [
    {
     "data": {
      "text/plain": [
       "Text(0.5, 1.0, 'Users by Race and Gender')"
      ]
     },
     "execution_count": 26,
     "metadata": {},
     "output_type": "execute_result"
    },
    {
     "data": {
      "image/png": "[encoded data removed]",
      "text/plain": [
       "<Figure size 640x480 with 1 Axes>"
      ]
     },
     "metadata": {},
     "output_type": "display_data"
    }
   ],
   "source": [
    "sns.countplot(x='Race',hue='Sex',data=data)\n",
    "plt.title(\"Users by Race and Gender\", fontsize = 10)"
   ]
  },
  {
   "cell_type": "markdown",
   "id": "bc527585",
   "metadata": {},
   "source": [
    " each year, how many reviews were collected"
   ]
  },
  {
   "cell_type": "code",
   "execution_count": 27,
   "id": "17adf894",
   "metadata": {},
   "outputs": [
    {
     "data": {
      "text/plain": [
       "Text(0, 0.5, 'Count of Reviews')"
      ]
     },
     "execution_count": 27,
     "metadata": {},
     "output_type": "execute_result"
    },
    {
     "data": {
      "image/png": "[encoded data removed]",
      "text/plain": [
       "<Figure size 640x480 with 1 Axes>"
      ]
     },
     "metadata": {},
     "output_type": "display_data"
    }
   ],
   "source": [
    "data['Year'].value_counts().plot(kind='bar')\n",
    "plt.title(\"Year\", fontsize = 10)\n",
    "plt.xlabel(\"Year\", fontsize = 10)\n",
    "plt.ylabel(\"Count of Reviews\", fontsize = 10)"
   ]
  },
  {
   "cell_type": "markdown",
   "id": "dc9a289a",
   "metadata": {},
   "source": [
    "How effective is the drug"
   ]
  },
  {
   "cell_type": "code",
   "execution_count": 28,
   "id": "c4442e5d",
   "metadata": {},
   "outputs": [
    {
     "data": {
      "text/plain": [
       "Text(0, 0.5, 'Count')"
      ]
     },
     "execution_count": 28,
     "metadata": {},
     "output_type": "execute_result"
    },
    {
     "data": {
      "image/png": "[encoded data removed]",
      "text/plain": [
       "<Figure size 640x480 with 1 Axes>"
      ]
     },
     "metadata": {},
     "output_type": "display_data"
    }
   ],
   "source": [
    "data['Effectiveness'].value_counts().plot(kind='bar')\n",
    "plt.title(\"Effectiveness\", fontsize = 10)\n",
    "plt.xlabel(\"Effectiveness\", fontsize = 10)\n",
    "plt.ylabel(\"Count\", fontsize = 10)"
   ]
  },
  {
   "cell_type": "markdown",
   "id": "1aaa8ffd",
   "metadata": {},
   "source": [
    "how is the sideeffects of the drug in Gender"
   ]
  },
  {
   "cell_type": "code",
   "execution_count": 29,
   "id": "c70551b9",
   "metadata": {},
   "outputs": [
    {
     "data": {
      "text/plain": [
       "<Figure size 2000x1000 with 0 Axes>"
      ]
     },
     "metadata": {},
     "output_type": "display_data"
    },
    {
     "data": {
      "image/png": "[encoded data removed]",
      "text/plain": [
       "<Figure size 1080x600 with 2 Axes>"
      ]
     },
     "metadata": {},
     "output_type": "display_data"
    }
   ],
   "source": [
    "plt.figure(figsize=(20,10))\n",
    "\n",
    "g = sns.catplot(x=\"Sideeffect\",col=\"Sex\",data=data, kind=\"count\",height=6,aspect =.9);"
   ]
  },
  {
   "cell_type": "markdown",
   "id": "e8a94bd5",
   "metadata": {},
   "source": [
    "Female users have reported more extreme side effects"
   ]
  },
  {
   "cell_type": "markdown",
   "id": "53f6c4f0",
   "metadata": {},
   "source": [
    "which race has reported extreme side effects?"
   ]
  },
  {
   "cell_type": "code",
   "execution_count": 30,
   "id": "0af8ecf2",
   "metadata": {},
   "outputs": [
    {
     "data": {
      "text/plain": [
       "<Axes: xlabel='Race', ylabel='count'>"
      ]
     },
     "execution_count": 30,
     "metadata": {},
     "output_type": "execute_result"
    },
    {
     "data": {
      "image/png": "[encoded data removed]",
      "text/plain": [
       "<Figure size 1000x600 with 1 Axes>"
      ]
     },
     "metadata": {},
     "output_type": "display_data"
    }
   ],
   "source": [
    "plt.figure(figsize=(10, 6))\n",
    "sns.countplot(x='Race',hue='Sideeffect',data=data)"
   ]
  },
  {
   "cell_type": "markdown",
   "id": "22f49330",
   "metadata": {},
   "source": [
    "Asian Patients   reported more extreme side effects"
   ]
  },
  {
   "cell_type": "markdown",
   "id": "133d41ef",
   "metadata": {},
   "source": [
    "We can drop review coloumn as we dont deal with NLP"
   ]
  },
  {
   "cell_type": "code",
   "execution_count": 31,
   "id": "4765f384",
   "metadata": {},
   "outputs": [],
   "source": [
    "data = data.drop(['Reviews'],axis=1) #dropping tags and description coloumn"
   ]
  },
  {
   "cell_type": "code",
   "execution_count": 32,
   "id": "d88011bb",
   "metadata": {},
   "outputs": [
    {
     "data": {
      "text/html": [
       "<div>\n",
       "<style scoped>\n",
       "    .dataframe tbody tr th:only-of-type {\n",
       "        vertical-align: middle;\n",
       "    }\n",
       "\n",
       "    .dataframe tbody tr th {\n",
       "        vertical-align: top;\n",
       "    }\n",
       "\n",
       "    .dataframe thead th {\n",
       "        text-align: right;\n",
       "    }\n",
       "</style>\n",
       "<table border=\"1\" class=\"dataframe\">\n",
       "  <thead>\n",
       "    <tr style=\"text-align: right;\">\n",
       "      <th></th>\n",
       "      <th>Age</th>\n",
       "      <th>Condition</th>\n",
       "      <th>Date</th>\n",
       "      <th>Drug</th>\n",
       "      <th>DrugId</th>\n",
       "      <th>EaseofUse</th>\n",
       "      <th>Effectiveness</th>\n",
       "      <th>Satisfaction</th>\n",
       "      <th>Sex</th>\n",
       "      <th>Sides</th>\n",
       "      <th>UsefulCount</th>\n",
       "      <th>Patient Name</th>\n",
       "      <th>Race</th>\n",
       "      <th>Year</th>\n",
       "      <th>Month</th>\n",
       "      <th>day_of_week</th>\n",
       "      <th>UsefulCount_boxcox</th>\n",
       "      <th>EaseofUse_boxcox</th>\n",
       "      <th>Sideeffect</th>\n",
       "    </tr>\n",
       "  </thead>\n",
       "  <tbody>\n",
       "    <tr>\n",
       "      <th>0</th>\n",
       "      <td>75 or over</td>\n",
       "      <td>Stuffy Nose</td>\n",
       "      <td>9/21/2014</td>\n",
       "      <td>25dph-7.5peh</td>\n",
       "      <td>146724.0</td>\n",
       "      <td>5.0</td>\n",
       "      <td>5.0</td>\n",
       "      <td>5.0</td>\n",
       "      <td>Male</td>\n",
       "      <td>Drowsiness,  dizziness ,  dry mouth /nose/thro...</td>\n",
       "      <td>0.0</td>\n",
       "      <td>Miles Chavez</td>\n",
       "      <td>American Indian</td>\n",
       "      <td>2014</td>\n",
       "      <td>9</td>\n",
       "      <td>Sunday</td>\n",
       "      <td>-1.300296</td>\n",
       "      <td>0.856565</td>\n",
       "      <td>1.0</td>\n",
       "    </tr>\n",
       "    <tr>\n",
       "      <th>1</th>\n",
       "      <td>25-34</td>\n",
       "      <td>Cold Symptoms</td>\n",
       "      <td>1/13/2011</td>\n",
       "      <td>25dph-7.5peh</td>\n",
       "      <td>146724.0</td>\n",
       "      <td>5.0</td>\n",
       "      <td>5.0</td>\n",
       "      <td>5.0</td>\n",
       "      <td>Female</td>\n",
       "      <td>Drowsiness,  dizziness ,  dry mouth /nose/thro...</td>\n",
       "      <td>1.0</td>\n",
       "      <td>Aaron Bailey</td>\n",
       "      <td>African American</td>\n",
       "      <td>2011</td>\n",
       "      <td>1</td>\n",
       "      <td>Thursday</td>\n",
       "      <td>-0.986198</td>\n",
       "      <td>0.856565</td>\n",
       "      <td>1.0</td>\n",
       "    </tr>\n",
       "    <tr>\n",
       "      <th>6</th>\n",
       "      <td>25-34</td>\n",
       "      <td>Birth Control</td>\n",
       "      <td>6/15/2017</td>\n",
       "      <td>wymzya fe</td>\n",
       "      <td>163180.0</td>\n",
       "      <td>5.0</td>\n",
       "      <td>5.0</td>\n",
       "      <td>2.0</td>\n",
       "      <td>Female</td>\n",
       "      <td>Nausea ,  vomiting ,  headache ,  bloating ,  ...</td>\n",
       "      <td>0.0</td>\n",
       "      <td>Isaiah Brown</td>\n",
       "      <td>Asian Americans</td>\n",
       "      <td>2017</td>\n",
       "      <td>6</td>\n",
       "      <td>Thursday</td>\n",
       "      <td>-1.300296</td>\n",
       "      <td>0.856565</td>\n",
       "      <td>4.0</td>\n",
       "    </tr>\n",
       "    <tr>\n",
       "      <th>7</th>\n",
       "      <td>45-54</td>\n",
       "      <td>Disease of Ovaries with Cysts</td>\n",
       "      <td>1/30/2017</td>\n",
       "      <td>wymzya fe</td>\n",
       "      <td>163180.0</td>\n",
       "      <td>5.0</td>\n",
       "      <td>5.0</td>\n",
       "      <td>5.0</td>\n",
       "      <td>Female</td>\n",
       "      <td>Nausea ,  vomiting ,  headache ,  bloating ,  ...</td>\n",
       "      <td>0.0</td>\n",
       "      <td>Micah Robinson</td>\n",
       "      <td>American Indian</td>\n",
       "      <td>2017</td>\n",
       "      <td>1</td>\n",
       "      <td>Monday</td>\n",
       "      <td>-1.300296</td>\n",
       "      <td>0.856565</td>\n",
       "      <td>1.0</td>\n",
       "    </tr>\n",
       "    <tr>\n",
       "      <th>9</th>\n",
       "      <td>55-64</td>\n",
       "      <td>Stuffy Nose</td>\n",
       "      <td>10/29/2012</td>\n",
       "      <td>12 hour nasal relief spray, non-aerosol</td>\n",
       "      <td>9800.0</td>\n",
       "      <td>4.0</td>\n",
       "      <td>2.0</td>\n",
       "      <td>2.0</td>\n",
       "      <td>Male</td>\n",
       "      <td>Temporary burning, stinging, dryness in the no...</td>\n",
       "      <td>0.0</td>\n",
       "      <td>Walker Nguyen</td>\n",
       "      <td>White</td>\n",
       "      <td>2012</td>\n",
       "      <td>10</td>\n",
       "      <td>Monday</td>\n",
       "      <td>-1.300296</td>\n",
       "      <td>-0.405726</td>\n",
       "      <td>4.0</td>\n",
       "    </tr>\n",
       "    <tr>\n",
       "      <th>...</th>\n",
       "      <td>...</td>\n",
       "      <td>...</td>\n",
       "      <td>...</td>\n",
       "      <td>...</td>\n",
       "      <td>...</td>\n",
       "      <td>...</td>\n",
       "      <td>...</td>\n",
       "      <td>...</td>\n",
       "      <td>...</td>\n",
       "      <td>...</td>\n",
       "      <td>...</td>\n",
       "      <td>...</td>\n",
       "      <td>...</td>\n",
       "      <td>...</td>\n",
       "      <td>...</td>\n",
       "      <td>...</td>\n",
       "      <td>...</td>\n",
       "      <td>...</td>\n",
       "      <td>...</td>\n",
       "    </tr>\n",
       "    <tr>\n",
       "      <th>362799</th>\n",
       "      <td>25-34</td>\n",
       "      <td>Stop Smoking</td>\n",
       "      <td>11/16/2008</td>\n",
       "      <td>chantix</td>\n",
       "      <td>144470.0</td>\n",
       "      <td>2.0</td>\n",
       "      <td>4.0</td>\n",
       "      <td>4.0</td>\n",
       "      <td>Female</td>\n",
       "      <td>Nausea ,  headache ,  vomiting , drowsiness, g...</td>\n",
       "      <td>5.0</td>\n",
       "      <td>James Fraser</td>\n",
       "      <td>Asian</td>\n",
       "      <td>2008</td>\n",
       "      <td>11</td>\n",
       "      <td>Sunday</td>\n",
       "      <td>0.000753</td>\n",
       "      <td>-1.557238</td>\n",
       "      <td>2.0</td>\n",
       "    </tr>\n",
       "    <tr>\n",
       "      <th>362801</th>\n",
       "      <td>55-64</td>\n",
       "      <td>Stop Smoking</td>\n",
       "      <td>11/14/2008</td>\n",
       "      <td>chantix</td>\n",
       "      <td>144470.0</td>\n",
       "      <td>5.0</td>\n",
       "      <td>5.0</td>\n",
       "      <td>5.0</td>\n",
       "      <td>Female</td>\n",
       "      <td>Nausea ,  headache ,  vomiting , drowsiness, g...</td>\n",
       "      <td>2.0</td>\n",
       "      <td>Elijah Reid</td>\n",
       "      <td>Asian</td>\n",
       "      <td>2008</td>\n",
       "      <td>11</td>\n",
       "      <td>Friday</td>\n",
       "      <td>-0.701810</td>\n",
       "      <td>0.856565</td>\n",
       "      <td>1.0</td>\n",
       "    </tr>\n",
       "    <tr>\n",
       "      <th>362803</th>\n",
       "      <td>25-34</td>\n",
       "      <td>Stop Smoking</td>\n",
       "      <td>11/13/2008</td>\n",
       "      <td>chantix</td>\n",
       "      <td>144470.0</td>\n",
       "      <td>2.0</td>\n",
       "      <td>4.0</td>\n",
       "      <td>2.0</td>\n",
       "      <td>Female</td>\n",
       "      <td>Nausea ,  headache ,  vomiting , drowsiness, g...</td>\n",
       "      <td>3.0</td>\n",
       "      <td>Elliot Duncan</td>\n",
       "      <td>Asian</td>\n",
       "      <td>2008</td>\n",
       "      <td>11</td>\n",
       "      <td>Thursday</td>\n",
       "      <td>-0.444221</td>\n",
       "      <td>-1.557238</td>\n",
       "      <td>4.0</td>\n",
       "    </tr>\n",
       "    <tr>\n",
       "      <th>362804</th>\n",
       "      <td>55-64</td>\n",
       "      <td>Stop Smoking</td>\n",
       "      <td>11/13/2008</td>\n",
       "      <td>chantix</td>\n",
       "      <td>144470.0</td>\n",
       "      <td>5.0</td>\n",
       "      <td>5.0</td>\n",
       "      <td>5.0</td>\n",
       "      <td>Male</td>\n",
       "      <td>Nausea ,  headache ,  vomiting , drowsiness, g...</td>\n",
       "      <td>1.0</td>\n",
       "      <td>Gabriel Cameron</td>\n",
       "      <td>Asian</td>\n",
       "      <td>2008</td>\n",
       "      <td>11</td>\n",
       "      <td>Thursday</td>\n",
       "      <td>-0.986198</td>\n",
       "      <td>0.856565</td>\n",
       "      <td>1.0</td>\n",
       "    </tr>\n",
       "    <tr>\n",
       "      <th>362805</th>\n",
       "      <td>45-54</td>\n",
       "      <td>Stop Smoking</td>\n",
       "      <td>2008-12-11 00:00:00</td>\n",
       "      <td>chantix</td>\n",
       "      <td>144470.0</td>\n",
       "      <td>4.0</td>\n",
       "      <td>5.0</td>\n",
       "      <td>5.0</td>\n",
       "      <td>Female</td>\n",
       "      <td>Nausea ,  headache ,  vomiting , drowsiness, g...</td>\n",
       "      <td>3.0</td>\n",
       "      <td>Arthur Robertson</td>\n",
       "      <td>Asian</td>\n",
       "      <td>2008</td>\n",
       "      <td>12</td>\n",
       "      <td>Thursday</td>\n",
       "      <td>-0.444221</td>\n",
       "      <td>-0.405726</td>\n",
       "      <td>1.0</td>\n",
       "    </tr>\n",
       "  </tbody>\n",
       "</table>\n",
       "<p>280111 rows × 19 columns</p>\n",
       "</div>"
      ],
      "text/plain": [
       "               Age                      Condition                 Date  \\\n",
       "0       75 or over                    Stuffy Nose            9/21/2014   \n",
       "1            25-34                  Cold Symptoms            1/13/2011   \n",
       "6            25-34                  Birth Control            6/15/2017   \n",
       "7            45-54  Disease of Ovaries with Cysts            1/30/2017   \n",
       "9            55-64                    Stuffy Nose           10/29/2012   \n",
       "...            ...                            ...                  ...   \n",
       "362799       25-34                   Stop Smoking           11/16/2008   \n",
       "362801       55-64                   Stop Smoking           11/14/2008   \n",
       "362803       25-34                   Stop Smoking           11/13/2008   \n",
       "362804       55-64                   Stop Smoking           11/13/2008   \n",
       "362805       45-54                   Stop Smoking  2008-12-11 00:00:00   \n",
       "\n",
       "                                           Drug    DrugId  EaseofUse  \\\n",
       "0                                  25dph-7.5peh  146724.0        5.0   \n",
       "1                                  25dph-7.5peh  146724.0        5.0   \n",
       "6                                     wymzya fe  163180.0        5.0   \n",
       "7                                     wymzya fe  163180.0        5.0   \n",
       "9       12 hour nasal relief spray, non-aerosol    9800.0        4.0   \n",
       "...                                         ...       ...        ...   \n",
       "362799                                  chantix  144470.0        2.0   \n",
       "362801                                  chantix  144470.0        5.0   \n",
       "362803                                  chantix  144470.0        2.0   \n",
       "362804                                  chantix  144470.0        5.0   \n",
       "362805                                  chantix  144470.0        4.0   \n",
       "\n",
       "        Effectiveness  Satisfaction     Sex  \\\n",
       "0                 5.0           5.0    Male   \n",
       "1                 5.0           5.0  Female   \n",
       "6                 5.0           2.0  Female   \n",
       "7                 5.0           5.0  Female   \n",
       "9                 2.0           2.0    Male   \n",
       "...               ...           ...     ...   \n",
       "362799            4.0           4.0  Female   \n",
       "362801            5.0           5.0  Female   \n",
       "362803            4.0           2.0  Female   \n",
       "362804            5.0           5.0    Male   \n",
       "362805            5.0           5.0  Female   \n",
       "\n",
       "                                                    Sides  UsefulCount  \\\n",
       "0       Drowsiness,  dizziness ,  dry mouth /nose/thro...          0.0   \n",
       "1       Drowsiness,  dizziness ,  dry mouth /nose/thro...          1.0   \n",
       "6       Nausea ,  vomiting ,  headache ,  bloating ,  ...          0.0   \n",
       "7       Nausea ,  vomiting ,  headache ,  bloating ,  ...          0.0   \n",
       "9       Temporary burning, stinging, dryness in the no...          0.0   \n",
       "...                                                   ...          ...   \n",
       "362799  Nausea ,  headache ,  vomiting , drowsiness, g...          5.0   \n",
       "362801  Nausea ,  headache ,  vomiting , drowsiness, g...          2.0   \n",
       "362803  Nausea ,  headache ,  vomiting , drowsiness, g...          3.0   \n",
       "362804  Nausea ,  headache ,  vomiting , drowsiness, g...          1.0   \n",
       "362805  Nausea ,  headache ,  vomiting , drowsiness, g...          3.0   \n",
       "\n",
       "            Patient Name              Race  Year  Month day_of_week  \\\n",
       "0           Miles Chavez  American Indian   2014      9      Sunday   \n",
       "1           Aaron Bailey  African American  2011      1    Thursday   \n",
       "6           Isaiah Brown   Asian Americans  2017      6    Thursday   \n",
       "7         Micah Robinson  American Indian   2017      1      Monday   \n",
       "9          Walker Nguyen             White  2012     10      Monday   \n",
       "...                  ...               ...   ...    ...         ...   \n",
       "362799      James Fraser             Asian  2008     11      Sunday   \n",
       "362801       Elijah Reid             Asian  2008     11      Friday   \n",
       "362803     Elliot Duncan             Asian  2008     11    Thursday   \n",
       "362804   Gabriel Cameron             Asian  2008     11    Thursday   \n",
       "362805  Arthur Robertson             Asian  2008     12    Thursday   \n",
       "\n",
       "        UsefulCount_boxcox  EaseofUse_boxcox  Sideeffect  \n",
       "0                -1.300296          0.856565         1.0  \n",
       "1                -0.986198          0.856565         1.0  \n",
       "6                -1.300296          0.856565         4.0  \n",
       "7                -1.300296          0.856565         1.0  \n",
       "9                -1.300296         -0.405726         4.0  \n",
       "...                    ...               ...         ...  \n",
       "362799            0.000753         -1.557238         2.0  \n",
       "362801           -0.701810          0.856565         1.0  \n",
       "362803           -0.444221         -1.557238         4.0  \n",
       "362804           -0.986198          0.856565         1.0  \n",
       "362805           -0.444221         -0.405726         1.0  \n",
       "\n",
       "[280111 rows x 19 columns]"
      ]
     },
     "execution_count": 32,
     "metadata": {},
     "output_type": "execute_result"
    }
   ],
   "source": [
    "data"
   ]
  },
  {
   "cell_type": "markdown",
   "id": "361bf1c0",
   "metadata": {},
   "source": [
    "Columns Name has unique values shall  be dropped. Date, Easeofuse, usefulcount,Drug, DrugId, Condition,  sides, Year will be dropped. Race, Sex, Year, Month, Dayofweek will be onehot encoded. Satisfaction will be segregated based on the values as nil, mild, moderate, sever, extreme based on values of 5, 4, 3, 2, 1 respectively. The assumption being that thet satisfaction is a parameter that gets affected by side effects in case of patients"
   ]
  },
  {
   "cell_type": "code",
   "execution_count": 33,
   "id": "64f4ac69",
   "metadata": {},
   "outputs": [],
   "source": [
    "data.drop(['Patient Name','Condition','Date','Drug','DrugId','EaseofUse','Sides','UsefulCount'], axis=1, inplace = True)"
   ]
  },
  {
   "cell_type": "code",
   "execution_count": 34,
   "id": "9ac244cd",
   "metadata": {},
   "outputs": [
    {
     "data": {
      "text/plain": [
       "Index(['Age', 'Effectiveness', 'Satisfaction', 'Sex', 'Race', 'Year', 'Month',\n",
       "       'day_of_week', 'UsefulCount_boxcox', 'EaseofUse_boxcox', 'Sideeffect'],\n",
       "      dtype='object')"
      ]
     },
     "execution_count": 34,
     "metadata": {},
     "output_type": "execute_result"
    }
   ],
   "source": [
    "data.Month = data.Month.astype(str)\n",
    "data.Year = data.Year.astype(str)\n",
    "data_encod = data[['Race', 'Age','Sex','Month','day_of_week']]\n",
    "data_num = data[['Effectiveness']]\n",
    "data.columns"
   ]
  },
  {
   "cell_type": "markdown",
   "id": "d4c0f944",
   "metadata": {},
   "source": [
    "Encoding : One Hot Encoding"
   ]
  },
  {
   "cell_type": "code",
   "execution_count": 35,
   "id": "d8f7b674",
   "metadata": {},
   "outputs": [
    {
     "data": {
      "text/html": [
       "<div>\n",
       "<style scoped>\n",
       "    .dataframe tbody tr th:only-of-type {\n",
       "        vertical-align: middle;\n",
       "    }\n",
       "\n",
       "    .dataframe tbody tr th {\n",
       "        vertical-align: top;\n",
       "    }\n",
       "\n",
       "    .dataframe thead th {\n",
       "        text-align: right;\n",
       "    }\n",
       "</style>\n",
       "<table border=\"1\" class=\"dataframe\">\n",
       "  <thead>\n",
       "    <tr style=\"text-align: right;\">\n",
       "      <th></th>\n",
       "      <th>Race_African American</th>\n",
       "      <th>Race_American Indian</th>\n",
       "      <th>Race_Asian</th>\n",
       "      <th>Race_Asian Americans</th>\n",
       "      <th>Race_Native Hawaiian</th>\n",
       "      <th>Race_White</th>\n",
       "      <th>Age_2023-06-03 00:00:00</th>\n",
       "      <th>Age_2023-12-07 00:00:00</th>\n",
       "      <th>Age_0-2</th>\n",
       "      <th>Age_13-18</th>\n",
       "      <th>...</th>\n",
       "      <th>Month_7</th>\n",
       "      <th>Month_8</th>\n",
       "      <th>Month_9</th>\n",
       "      <th>day_of_week_Friday</th>\n",
       "      <th>day_of_week_Monday</th>\n",
       "      <th>day_of_week_Saturday</th>\n",
       "      <th>day_of_week_Sunday</th>\n",
       "      <th>day_of_week_Thursday</th>\n",
       "      <th>day_of_week_Tuesday</th>\n",
       "      <th>day_of_week_Wednesday</th>\n",
       "    </tr>\n",
       "  </thead>\n",
       "  <tbody>\n",
       "    <tr>\n",
       "      <th>0</th>\n",
       "      <td>0</td>\n",
       "      <td>1</td>\n",
       "      <td>0</td>\n",
       "      <td>0</td>\n",
       "      <td>0</td>\n",
       "      <td>0</td>\n",
       "      <td>0</td>\n",
       "      <td>0</td>\n",
       "      <td>0</td>\n",
       "      <td>0</td>\n",
       "      <td>...</td>\n",
       "      <td>0</td>\n",
       "      <td>0</td>\n",
       "      <td>1</td>\n",
       "      <td>0</td>\n",
       "      <td>0</td>\n",
       "      <td>0</td>\n",
       "      <td>1</td>\n",
       "      <td>0</td>\n",
       "      <td>0</td>\n",
       "      <td>0</td>\n",
       "    </tr>\n",
       "    <tr>\n",
       "      <th>1</th>\n",
       "      <td>1</td>\n",
       "      <td>0</td>\n",
       "      <td>0</td>\n",
       "      <td>0</td>\n",
       "      <td>0</td>\n",
       "      <td>0</td>\n",
       "      <td>0</td>\n",
       "      <td>0</td>\n",
       "      <td>0</td>\n",
       "      <td>0</td>\n",
       "      <td>...</td>\n",
       "      <td>0</td>\n",
       "      <td>0</td>\n",
       "      <td>0</td>\n",
       "      <td>0</td>\n",
       "      <td>0</td>\n",
       "      <td>0</td>\n",
       "      <td>0</td>\n",
       "      <td>1</td>\n",
       "      <td>0</td>\n",
       "      <td>0</td>\n",
       "    </tr>\n",
       "    <tr>\n",
       "      <th>6</th>\n",
       "      <td>0</td>\n",
       "      <td>0</td>\n",
       "      <td>0</td>\n",
       "      <td>1</td>\n",
       "      <td>0</td>\n",
       "      <td>0</td>\n",
       "      <td>0</td>\n",
       "      <td>0</td>\n",
       "      <td>0</td>\n",
       "      <td>0</td>\n",
       "      <td>...</td>\n",
       "      <td>0</td>\n",
       "      <td>0</td>\n",
       "      <td>0</td>\n",
       "      <td>0</td>\n",
       "      <td>0</td>\n",
       "      <td>0</td>\n",
       "      <td>0</td>\n",
       "      <td>1</td>\n",
       "      <td>0</td>\n",
       "      <td>0</td>\n",
       "    </tr>\n",
       "    <tr>\n",
       "      <th>7</th>\n",
       "      <td>0</td>\n",
       "      <td>1</td>\n",
       "      <td>0</td>\n",
       "      <td>0</td>\n",
       "      <td>0</td>\n",
       "      <td>0</td>\n",
       "      <td>0</td>\n",
       "      <td>0</td>\n",
       "      <td>0</td>\n",
       "      <td>0</td>\n",
       "      <td>...</td>\n",
       "      <td>0</td>\n",
       "      <td>0</td>\n",
       "      <td>0</td>\n",
       "      <td>0</td>\n",
       "      <td>1</td>\n",
       "      <td>0</td>\n",
       "      <td>0</td>\n",
       "      <td>0</td>\n",
       "      <td>0</td>\n",
       "      <td>0</td>\n",
       "    </tr>\n",
       "    <tr>\n",
       "      <th>9</th>\n",
       "      <td>0</td>\n",
       "      <td>0</td>\n",
       "      <td>0</td>\n",
       "      <td>0</td>\n",
       "      <td>0</td>\n",
       "      <td>1</td>\n",
       "      <td>0</td>\n",
       "      <td>0</td>\n",
       "      <td>0</td>\n",
       "      <td>0</td>\n",
       "      <td>...</td>\n",
       "      <td>0</td>\n",
       "      <td>0</td>\n",
       "      <td>0</td>\n",
       "      <td>0</td>\n",
       "      <td>1</td>\n",
       "      <td>0</td>\n",
       "      <td>0</td>\n",
       "      <td>0</td>\n",
       "      <td>0</td>\n",
       "      <td>0</td>\n",
       "    </tr>\n",
       "    <tr>\n",
       "      <th>...</th>\n",
       "      <td>...</td>\n",
       "      <td>...</td>\n",
       "      <td>...</td>\n",
       "      <td>...</td>\n",
       "      <td>...</td>\n",
       "      <td>...</td>\n",
       "      <td>...</td>\n",
       "      <td>...</td>\n",
       "      <td>...</td>\n",
       "      <td>...</td>\n",
       "      <td>...</td>\n",
       "      <td>...</td>\n",
       "      <td>...</td>\n",
       "      <td>...</td>\n",
       "      <td>...</td>\n",
       "      <td>...</td>\n",
       "      <td>...</td>\n",
       "      <td>...</td>\n",
       "      <td>...</td>\n",
       "      <td>...</td>\n",
       "      <td>...</td>\n",
       "    </tr>\n",
       "    <tr>\n",
       "      <th>362799</th>\n",
       "      <td>0</td>\n",
       "      <td>0</td>\n",
       "      <td>1</td>\n",
       "      <td>0</td>\n",
       "      <td>0</td>\n",
       "      <td>0</td>\n",
       "      <td>0</td>\n",
       "      <td>0</td>\n",
       "      <td>0</td>\n",
       "      <td>0</td>\n",
       "      <td>...</td>\n",
       "      <td>0</td>\n",
       "      <td>0</td>\n",
       "      <td>0</td>\n",
       "      <td>0</td>\n",
       "      <td>0</td>\n",
       "      <td>0</td>\n",
       "      <td>1</td>\n",
       "      <td>0</td>\n",
       "      <td>0</td>\n",
       "      <td>0</td>\n",
       "    </tr>\n",
       "    <tr>\n",
       "      <th>362801</th>\n",
       "      <td>0</td>\n",
       "      <td>0</td>\n",
       "      <td>1</td>\n",
       "      <td>0</td>\n",
       "      <td>0</td>\n",
       "      <td>0</td>\n",
       "      <td>0</td>\n",
       "      <td>0</td>\n",
       "      <td>0</td>\n",
       "      <td>0</td>\n",
       "      <td>...</td>\n",
       "      <td>0</td>\n",
       "      <td>0</td>\n",
       "      <td>0</td>\n",
       "      <td>1</td>\n",
       "      <td>0</td>\n",
       "      <td>0</td>\n",
       "      <td>0</td>\n",
       "      <td>0</td>\n",
       "      <td>0</td>\n",
       "      <td>0</td>\n",
       "    </tr>\n",
       "    <tr>\n",
       "      <th>362803</th>\n",
       "      <td>0</td>\n",
       "      <td>0</td>\n",
       "      <td>1</td>\n",
       "      <td>0</td>\n",
       "      <td>0</td>\n",
       "      <td>0</td>\n",
       "      <td>0</td>\n",
       "      <td>0</td>\n",
       "      <td>0</td>\n",
       "      <td>0</td>\n",
       "      <td>...</td>\n",
       "      <td>0</td>\n",
       "      <td>0</td>\n",
       "      <td>0</td>\n",
       "      <td>0</td>\n",
       "      <td>0</td>\n",
       "      <td>0</td>\n",
       "      <td>0</td>\n",
       "      <td>1</td>\n",
       "      <td>0</td>\n",
       "      <td>0</td>\n",
       "    </tr>\n",
       "    <tr>\n",
       "      <th>362804</th>\n",
       "      <td>0</td>\n",
       "      <td>0</td>\n",
       "      <td>1</td>\n",
       "      <td>0</td>\n",
       "      <td>0</td>\n",
       "      <td>0</td>\n",
       "      <td>0</td>\n",
       "      <td>0</td>\n",
       "      <td>0</td>\n",
       "      <td>0</td>\n",
       "      <td>...</td>\n",
       "      <td>0</td>\n",
       "      <td>0</td>\n",
       "      <td>0</td>\n",
       "      <td>0</td>\n",
       "      <td>0</td>\n",
       "      <td>0</td>\n",
       "      <td>0</td>\n",
       "      <td>1</td>\n",
       "      <td>0</td>\n",
       "      <td>0</td>\n",
       "    </tr>\n",
       "    <tr>\n",
       "      <th>362805</th>\n",
       "      <td>0</td>\n",
       "      <td>0</td>\n",
       "      <td>1</td>\n",
       "      <td>0</td>\n",
       "      <td>0</td>\n",
       "      <td>0</td>\n",
       "      <td>0</td>\n",
       "      <td>0</td>\n",
       "      <td>0</td>\n",
       "      <td>0</td>\n",
       "      <td>...</td>\n",
       "      <td>0</td>\n",
       "      <td>0</td>\n",
       "      <td>0</td>\n",
       "      <td>0</td>\n",
       "      <td>0</td>\n",
       "      <td>0</td>\n",
       "      <td>0</td>\n",
       "      <td>1</td>\n",
       "      <td>0</td>\n",
       "      <td>0</td>\n",
       "    </tr>\n",
       "  </tbody>\n",
       "</table>\n",
       "<p>280111 rows × 38 columns</p>\n",
       "</div>"
      ],
      "text/plain": [
       "        Race_African American  Race_American Indian   Race_Asian  \\\n",
       "0                           0                      1           0   \n",
       "1                           1                      0           0   \n",
       "6                           0                      0           0   \n",
       "7                           0                      1           0   \n",
       "9                           0                      0           0   \n",
       "...                       ...                    ...         ...   \n",
       "362799                      0                      0           1   \n",
       "362801                      0                      0           1   \n",
       "362803                      0                      0           1   \n",
       "362804                      0                      0           1   \n",
       "362805                      0                      0           1   \n",
       "\n",
       "        Race_Asian Americans  Race_Native Hawaiian  Race_White  \\\n",
       "0                          0                     0           0   \n",
       "1                          0                     0           0   \n",
       "6                          1                     0           0   \n",
       "7                          0                     0           0   \n",
       "9                          0                     0           1   \n",
       "...                      ...                   ...         ...   \n",
       "362799                     0                     0           0   \n",
       "362801                     0                     0           0   \n",
       "362803                     0                     0           0   \n",
       "362804                     0                     0           0   \n",
       "362805                     0                     0           0   \n",
       "\n",
       "        Age_2023-06-03 00:00:00  Age_2023-12-07 00:00:00  Age_0-2  Age_13-18  \\\n",
       "0                             0                        0        0          0   \n",
       "1                             0                        0        0          0   \n",
       "6                             0                        0        0          0   \n",
       "7                             0                        0        0          0   \n",
       "9                             0                        0        0          0   \n",
       "...                         ...                      ...      ...        ...   \n",
       "362799                        0                        0        0          0   \n",
       "362801                        0                        0        0          0   \n",
       "362803                        0                        0        0          0   \n",
       "362804                        0                        0        0          0   \n",
       "362805                        0                        0        0          0   \n",
       "\n",
       "        ...  Month_7  Month_8  Month_9  day_of_week_Friday  \\\n",
       "0       ...        0        0        1                   0   \n",
       "1       ...        0        0        0                   0   \n",
       "6       ...        0        0        0                   0   \n",
       "7       ...        0        0        0                   0   \n",
       "9       ...        0        0        0                   0   \n",
       "...     ...      ...      ...      ...                 ...   \n",
       "362799  ...        0        0        0                   0   \n",
       "362801  ...        0        0        0                   1   \n",
       "362803  ...        0        0        0                   0   \n",
       "362804  ...        0        0        0                   0   \n",
       "362805  ...        0        0        0                   0   \n",
       "\n",
       "        day_of_week_Monday  day_of_week_Saturday  day_of_week_Sunday  \\\n",
       "0                        0                     0                   1   \n",
       "1                        0                     0                   0   \n",
       "6                        0                     0                   0   \n",
       "7                        1                     0                   0   \n",
       "9                        1                     0                   0   \n",
       "...                    ...                   ...                 ...   \n",
       "362799                   0                     0                   1   \n",
       "362801                   0                     0                   0   \n",
       "362803                   0                     0                   0   \n",
       "362804                   0                     0                   0   \n",
       "362805                   0                     0                   0   \n",
       "\n",
       "        day_of_week_Thursday  day_of_week_Tuesday  day_of_week_Wednesday  \n",
       "0                          0                    0                      0  \n",
       "1                          1                    0                      0  \n",
       "6                          1                    0                      0  \n",
       "7                          0                    0                      0  \n",
       "9                          0                    0                      0  \n",
       "...                      ...                  ...                    ...  \n",
       "362799                     0                    0                      0  \n",
       "362801                     0                    0                      0  \n",
       "362803                     1                    0                      0  \n",
       "362804                     1                    0                      0  \n",
       "362805                     1                    0                      0  \n",
       "\n",
       "[280111 rows x 38 columns]"
      ]
     },
     "execution_count": 35,
     "metadata": {},
     "output_type": "execute_result"
    }
   ],
   "source": [
    "data_encod = pd.get_dummies(data_encod)\n",
    "data_encod"
   ]
  },
  {
   "cell_type": "markdown",
   "id": "2d1c9ffe",
   "metadata": {},
   "source": [
    "Scaling : Standard Scaling"
   ]
  },
  {
   "cell_type": "code",
   "execution_count": 36,
   "id": "99bb4f73",
   "metadata": {},
   "outputs": [
    {
     "data": {
      "text/html": [
       "<div>\n",
       "<style scoped>\n",
       "    .dataframe tbody tr th:only-of-type {\n",
       "        vertical-align: middle;\n",
       "    }\n",
       "\n",
       "    .dataframe tbody tr th {\n",
       "        vertical-align: top;\n",
       "    }\n",
       "\n",
       "    .dataframe thead th {\n",
       "        text-align: right;\n",
       "    }\n",
       "</style>\n",
       "<table border=\"1\" class=\"dataframe\">\n",
       "  <thead>\n",
       "    <tr style=\"text-align: right;\">\n",
       "      <th></th>\n",
       "      <th>Effectiveness</th>\n",
       "    </tr>\n",
       "  </thead>\n",
       "  <tbody>\n",
       "    <tr>\n",
       "      <th>0</th>\n",
       "      <td>1.002377</td>\n",
       "    </tr>\n",
       "    <tr>\n",
       "      <th>1</th>\n",
       "      <td>1.002377</td>\n",
       "    </tr>\n",
       "    <tr>\n",
       "      <th>2</th>\n",
       "      <td>1.002377</td>\n",
       "    </tr>\n",
       "    <tr>\n",
       "      <th>3</th>\n",
       "      <td>1.002377</td>\n",
       "    </tr>\n",
       "    <tr>\n",
       "      <th>4</th>\n",
       "      <td>-1.041182</td>\n",
       "    </tr>\n",
       "    <tr>\n",
       "      <th>...</th>\n",
       "      <td>...</td>\n",
       "    </tr>\n",
       "    <tr>\n",
       "      <th>280106</th>\n",
       "      <td>0.321191</td>\n",
       "    </tr>\n",
       "    <tr>\n",
       "      <th>280107</th>\n",
       "      <td>1.002377</td>\n",
       "    </tr>\n",
       "    <tr>\n",
       "      <th>280108</th>\n",
       "      <td>0.321191</td>\n",
       "    </tr>\n",
       "    <tr>\n",
       "      <th>280109</th>\n",
       "      <td>1.002377</td>\n",
       "    </tr>\n",
       "    <tr>\n",
       "      <th>280110</th>\n",
       "      <td>1.002377</td>\n",
       "    </tr>\n",
       "  </tbody>\n",
       "</table>\n",
       "<p>280111 rows × 1 columns</p>\n",
       "</div>"
      ],
      "text/plain": [
       "        Effectiveness\n",
       "0            1.002377\n",
       "1            1.002377\n",
       "2            1.002377\n",
       "3            1.002377\n",
       "4           -1.041182\n",
       "...               ...\n",
       "280106       0.321191\n",
       "280107       1.002377\n",
       "280108       0.321191\n",
       "280109       1.002377\n",
       "280110       1.002377\n",
       "\n",
       "[280111 rows x 1 columns]"
      ]
     },
     "execution_count": 36,
     "metadata": {},
     "output_type": "execute_result"
    }
   ],
   "source": [
    "from sklearn.preprocessing import StandardScaler\n",
    "mm = StandardScaler()\n",
    "data_num = mm.fit_transform(data_num)\n",
    "data_num = pd.DataFrame(data_num, columns = ['Effectiveness'])\n",
    "data_num"
   ]
  },
  {
   "cell_type": "code",
   "execution_count": 37,
   "id": "bccb08ac",
   "metadata": {},
   "outputs": [
    {
     "data": {
      "text/html": [
       "<div>\n",
       "<style scoped>\n",
       "    .dataframe tbody tr th:only-of-type {\n",
       "        vertical-align: middle;\n",
       "    }\n",
       "\n",
       "    .dataframe tbody tr th {\n",
       "        vertical-align: top;\n",
       "    }\n",
       "\n",
       "    .dataframe thead th {\n",
       "        text-align: right;\n",
       "    }\n",
       "</style>\n",
       "<table border=\"1\" class=\"dataframe\">\n",
       "  <thead>\n",
       "    <tr style=\"text-align: right;\">\n",
       "      <th></th>\n",
       "      <th>Race_African American</th>\n",
       "      <th>Race_American Indian</th>\n",
       "      <th>Race_Asian</th>\n",
       "      <th>Race_Asian Americans</th>\n",
       "      <th>Race_Native Hawaiian</th>\n",
       "      <th>Race_White</th>\n",
       "      <th>Age_2023-06-03 00:00:00</th>\n",
       "      <th>Age_2023-12-07 00:00:00</th>\n",
       "      <th>Age_0-2</th>\n",
       "      <th>Age_13-18</th>\n",
       "      <th>...</th>\n",
       "      <th>Month_8</th>\n",
       "      <th>Month_9</th>\n",
       "      <th>day_of_week_Friday</th>\n",
       "      <th>day_of_week_Monday</th>\n",
       "      <th>day_of_week_Saturday</th>\n",
       "      <th>day_of_week_Sunday</th>\n",
       "      <th>day_of_week_Thursday</th>\n",
       "      <th>day_of_week_Tuesday</th>\n",
       "      <th>day_of_week_Wednesday</th>\n",
       "      <th>Effectiveness</th>\n",
       "    </tr>\n",
       "  </thead>\n",
       "  <tbody>\n",
       "    <tr>\n",
       "      <th>0</th>\n",
       "      <td>0</td>\n",
       "      <td>1</td>\n",
       "      <td>0</td>\n",
       "      <td>0</td>\n",
       "      <td>0</td>\n",
       "      <td>0</td>\n",
       "      <td>0</td>\n",
       "      <td>0</td>\n",
       "      <td>0</td>\n",
       "      <td>0</td>\n",
       "      <td>...</td>\n",
       "      <td>0</td>\n",
       "      <td>1</td>\n",
       "      <td>0</td>\n",
       "      <td>0</td>\n",
       "      <td>0</td>\n",
       "      <td>1</td>\n",
       "      <td>0</td>\n",
       "      <td>0</td>\n",
       "      <td>0</td>\n",
       "      <td>1.002377</td>\n",
       "    </tr>\n",
       "    <tr>\n",
       "      <th>1</th>\n",
       "      <td>1</td>\n",
       "      <td>0</td>\n",
       "      <td>0</td>\n",
       "      <td>0</td>\n",
       "      <td>0</td>\n",
       "      <td>0</td>\n",
       "      <td>0</td>\n",
       "      <td>0</td>\n",
       "      <td>0</td>\n",
       "      <td>0</td>\n",
       "      <td>...</td>\n",
       "      <td>0</td>\n",
       "      <td>0</td>\n",
       "      <td>0</td>\n",
       "      <td>0</td>\n",
       "      <td>0</td>\n",
       "      <td>0</td>\n",
       "      <td>1</td>\n",
       "      <td>0</td>\n",
       "      <td>0</td>\n",
       "      <td>1.002377</td>\n",
       "    </tr>\n",
       "    <tr>\n",
       "      <th>6</th>\n",
       "      <td>0</td>\n",
       "      <td>0</td>\n",
       "      <td>0</td>\n",
       "      <td>1</td>\n",
       "      <td>0</td>\n",
       "      <td>0</td>\n",
       "      <td>0</td>\n",
       "      <td>0</td>\n",
       "      <td>0</td>\n",
       "      <td>0</td>\n",
       "      <td>...</td>\n",
       "      <td>0</td>\n",
       "      <td>0</td>\n",
       "      <td>0</td>\n",
       "      <td>0</td>\n",
       "      <td>0</td>\n",
       "      <td>0</td>\n",
       "      <td>1</td>\n",
       "      <td>0</td>\n",
       "      <td>0</td>\n",
       "      <td>1.002377</td>\n",
       "    </tr>\n",
       "    <tr>\n",
       "      <th>7</th>\n",
       "      <td>0</td>\n",
       "      <td>1</td>\n",
       "      <td>0</td>\n",
       "      <td>0</td>\n",
       "      <td>0</td>\n",
       "      <td>0</td>\n",
       "      <td>0</td>\n",
       "      <td>0</td>\n",
       "      <td>0</td>\n",
       "      <td>0</td>\n",
       "      <td>...</td>\n",
       "      <td>0</td>\n",
       "      <td>0</td>\n",
       "      <td>0</td>\n",
       "      <td>1</td>\n",
       "      <td>0</td>\n",
       "      <td>0</td>\n",
       "      <td>0</td>\n",
       "      <td>0</td>\n",
       "      <td>0</td>\n",
       "      <td>1.002377</td>\n",
       "    </tr>\n",
       "    <tr>\n",
       "      <th>9</th>\n",
       "      <td>0</td>\n",
       "      <td>0</td>\n",
       "      <td>0</td>\n",
       "      <td>0</td>\n",
       "      <td>0</td>\n",
       "      <td>1</td>\n",
       "      <td>0</td>\n",
       "      <td>0</td>\n",
       "      <td>0</td>\n",
       "      <td>0</td>\n",
       "      <td>...</td>\n",
       "      <td>0</td>\n",
       "      <td>0</td>\n",
       "      <td>0</td>\n",
       "      <td>1</td>\n",
       "      <td>0</td>\n",
       "      <td>0</td>\n",
       "      <td>0</td>\n",
       "      <td>0</td>\n",
       "      <td>0</td>\n",
       "      <td>-1.041182</td>\n",
       "    </tr>\n",
       "    <tr>\n",
       "      <th>...</th>\n",
       "      <td>...</td>\n",
       "      <td>...</td>\n",
       "      <td>...</td>\n",
       "      <td>...</td>\n",
       "      <td>...</td>\n",
       "      <td>...</td>\n",
       "      <td>...</td>\n",
       "      <td>...</td>\n",
       "      <td>...</td>\n",
       "      <td>...</td>\n",
       "      <td>...</td>\n",
       "      <td>...</td>\n",
       "      <td>...</td>\n",
       "      <td>...</td>\n",
       "      <td>...</td>\n",
       "      <td>...</td>\n",
       "      <td>...</td>\n",
       "      <td>...</td>\n",
       "      <td>...</td>\n",
       "      <td>...</td>\n",
       "      <td>...</td>\n",
       "    </tr>\n",
       "    <tr>\n",
       "      <th>362799</th>\n",
       "      <td>0</td>\n",
       "      <td>0</td>\n",
       "      <td>1</td>\n",
       "      <td>0</td>\n",
       "      <td>0</td>\n",
       "      <td>0</td>\n",
       "      <td>0</td>\n",
       "      <td>0</td>\n",
       "      <td>0</td>\n",
       "      <td>0</td>\n",
       "      <td>...</td>\n",
       "      <td>0</td>\n",
       "      <td>0</td>\n",
       "      <td>0</td>\n",
       "      <td>0</td>\n",
       "      <td>0</td>\n",
       "      <td>1</td>\n",
       "      <td>0</td>\n",
       "      <td>0</td>\n",
       "      <td>0</td>\n",
       "      <td>0.321191</td>\n",
       "    </tr>\n",
       "    <tr>\n",
       "      <th>362801</th>\n",
       "      <td>0</td>\n",
       "      <td>0</td>\n",
       "      <td>1</td>\n",
       "      <td>0</td>\n",
       "      <td>0</td>\n",
       "      <td>0</td>\n",
       "      <td>0</td>\n",
       "      <td>0</td>\n",
       "      <td>0</td>\n",
       "      <td>0</td>\n",
       "      <td>...</td>\n",
       "      <td>0</td>\n",
       "      <td>0</td>\n",
       "      <td>1</td>\n",
       "      <td>0</td>\n",
       "      <td>0</td>\n",
       "      <td>0</td>\n",
       "      <td>0</td>\n",
       "      <td>0</td>\n",
       "      <td>0</td>\n",
       "      <td>1.002377</td>\n",
       "    </tr>\n",
       "    <tr>\n",
       "      <th>362803</th>\n",
       "      <td>0</td>\n",
       "      <td>0</td>\n",
       "      <td>1</td>\n",
       "      <td>0</td>\n",
       "      <td>0</td>\n",
       "      <td>0</td>\n",
       "      <td>0</td>\n",
       "      <td>0</td>\n",
       "      <td>0</td>\n",
       "      <td>0</td>\n",
       "      <td>...</td>\n",
       "      <td>0</td>\n",
       "      <td>0</td>\n",
       "      <td>0</td>\n",
       "      <td>0</td>\n",
       "      <td>0</td>\n",
       "      <td>0</td>\n",
       "      <td>1</td>\n",
       "      <td>0</td>\n",
       "      <td>0</td>\n",
       "      <td>0.321191</td>\n",
       "    </tr>\n",
       "    <tr>\n",
       "      <th>362804</th>\n",
       "      <td>0</td>\n",
       "      <td>0</td>\n",
       "      <td>1</td>\n",
       "      <td>0</td>\n",
       "      <td>0</td>\n",
       "      <td>0</td>\n",
       "      <td>0</td>\n",
       "      <td>0</td>\n",
       "      <td>0</td>\n",
       "      <td>0</td>\n",
       "      <td>...</td>\n",
       "      <td>0</td>\n",
       "      <td>0</td>\n",
       "      <td>0</td>\n",
       "      <td>0</td>\n",
       "      <td>0</td>\n",
       "      <td>0</td>\n",
       "      <td>1</td>\n",
       "      <td>0</td>\n",
       "      <td>0</td>\n",
       "      <td>1.002377</td>\n",
       "    </tr>\n",
       "    <tr>\n",
       "      <th>362805</th>\n",
       "      <td>0</td>\n",
       "      <td>0</td>\n",
       "      <td>1</td>\n",
       "      <td>0</td>\n",
       "      <td>0</td>\n",
       "      <td>0</td>\n",
       "      <td>0</td>\n",
       "      <td>0</td>\n",
       "      <td>0</td>\n",
       "      <td>0</td>\n",
       "      <td>...</td>\n",
       "      <td>0</td>\n",
       "      <td>0</td>\n",
       "      <td>0</td>\n",
       "      <td>0</td>\n",
       "      <td>0</td>\n",
       "      <td>0</td>\n",
       "      <td>1</td>\n",
       "      <td>0</td>\n",
       "      <td>0</td>\n",
       "      <td>1.002377</td>\n",
       "    </tr>\n",
       "  </tbody>\n",
       "</table>\n",
       "<p>280111 rows × 39 columns</p>\n",
       "</div>"
      ],
      "text/plain": [
       "        Race_African American  Race_American Indian   Race_Asian  \\\n",
       "0                           0                      1           0   \n",
       "1                           1                      0           0   \n",
       "6                           0                      0           0   \n",
       "7                           0                      1           0   \n",
       "9                           0                      0           0   \n",
       "...                       ...                    ...         ...   \n",
       "362799                      0                      0           1   \n",
       "362801                      0                      0           1   \n",
       "362803                      0                      0           1   \n",
       "362804                      0                      0           1   \n",
       "362805                      0                      0           1   \n",
       "\n",
       "        Race_Asian Americans  Race_Native Hawaiian  Race_White  \\\n",
       "0                          0                     0           0   \n",
       "1                          0                     0           0   \n",
       "6                          1                     0           0   \n",
       "7                          0                     0           0   \n",
       "9                          0                     0           1   \n",
       "...                      ...                   ...         ...   \n",
       "362799                     0                     0           0   \n",
       "362801                     0                     0           0   \n",
       "362803                     0                     0           0   \n",
       "362804                     0                     0           0   \n",
       "362805                     0                     0           0   \n",
       "\n",
       "        Age_2023-06-03 00:00:00  Age_2023-12-07 00:00:00  Age_0-2  Age_13-18  \\\n",
       "0                             0                        0        0          0   \n",
       "1                             0                        0        0          0   \n",
       "6                             0                        0        0          0   \n",
       "7                             0                        0        0          0   \n",
       "9                             0                        0        0          0   \n",
       "...                         ...                      ...      ...        ...   \n",
       "362799                        0                        0        0          0   \n",
       "362801                        0                        0        0          0   \n",
       "362803                        0                        0        0          0   \n",
       "362804                        0                        0        0          0   \n",
       "362805                        0                        0        0          0   \n",
       "\n",
       "        ...  Month_8  Month_9  day_of_week_Friday  day_of_week_Monday  \\\n",
       "0       ...        0        1                   0                   0   \n",
       "1       ...        0        0                   0                   0   \n",
       "6       ...        0        0                   0                   0   \n",
       "7       ...        0        0                   0                   1   \n",
       "9       ...        0        0                   0                   1   \n",
       "...     ...      ...      ...                 ...                 ...   \n",
       "362799  ...        0        0                   0                   0   \n",
       "362801  ...        0        0                   1                   0   \n",
       "362803  ...        0        0                   0                   0   \n",
       "362804  ...        0        0                   0                   0   \n",
       "362805  ...        0        0                   0                   0   \n",
       "\n",
       "        day_of_week_Saturday  day_of_week_Sunday  day_of_week_Thursday  \\\n",
       "0                          0                   1                     0   \n",
       "1                          0                   0                     1   \n",
       "6                          0                   0                     1   \n",
       "7                          0                   0                     0   \n",
       "9                          0                   0                     0   \n",
       "...                      ...                 ...                   ...   \n",
       "362799                     0                   1                     0   \n",
       "362801                     0                   0                     0   \n",
       "362803                     0                   0                     1   \n",
       "362804                     0                   0                     1   \n",
       "362805                     0                   0                     1   \n",
       "\n",
       "        day_of_week_Tuesday  day_of_week_Wednesday  Effectiveness  \n",
       "0                         0                      0       1.002377  \n",
       "1                         0                      0       1.002377  \n",
       "6                         0                      0       1.002377  \n",
       "7                         0                      0       1.002377  \n",
       "9                         0                      0      -1.041182  \n",
       "...                     ...                    ...            ...  \n",
       "362799                    0                      0       0.321191  \n",
       "362801                    0                      0       1.002377  \n",
       "362803                    0                      0       0.321191  \n",
       "362804                    0                      0       1.002377  \n",
       "362805                    0                      0       1.002377  \n",
       "\n",
       "[280111 rows x 39 columns]"
      ]
     },
     "execution_count": 37,
     "metadata": {},
     "output_type": "execute_result"
    }
   ],
   "source": [
    "data3 = data_encod\n",
    "data3['Effectiveness'] = data_num.values\n",
    "data3"
   ]
  },
  {
   "cell_type": "markdown",
   "id": "4263ee1d",
   "metadata": {},
   "source": [
    "So  what I suppose is the following features which are race, age and effectiveness can form the dataset which will predict the sideeffect of the user."
   ]
  },
  {
   "cell_type": "code",
   "execution_count": 40,
   "id": "db24c680",
   "metadata": {},
   "outputs": [
    {
     "data": {
      "text/html": [
       "<div>\n",
       "<style scoped>\n",
       "    .dataframe tbody tr th:only-of-type {\n",
       "        vertical-align: middle;\n",
       "    }\n",
       "\n",
       "    .dataframe tbody tr th {\n",
       "        vertical-align: top;\n",
       "    }\n",
       "\n",
       "    .dataframe thead th {\n",
       "        text-align: right;\n",
       "    }\n",
       "</style>\n",
       "<table border=\"1\" class=\"dataframe\">\n",
       "  <thead>\n",
       "    <tr style=\"text-align: right;\">\n",
       "      <th></th>\n",
       "      <th>Sideeffect</th>\n",
       "    </tr>\n",
       "  </thead>\n",
       "  <tbody>\n",
       "    <tr>\n",
       "      <th>0</th>\n",
       "      <td>1.0</td>\n",
       "    </tr>\n",
       "    <tr>\n",
       "      <th>1</th>\n",
       "      <td>1.0</td>\n",
       "    </tr>\n",
       "    <tr>\n",
       "      <th>6</th>\n",
       "      <td>4.0</td>\n",
       "    </tr>\n",
       "    <tr>\n",
       "      <th>7</th>\n",
       "      <td>1.0</td>\n",
       "    </tr>\n",
       "    <tr>\n",
       "      <th>9</th>\n",
       "      <td>4.0</td>\n",
       "    </tr>\n",
       "    <tr>\n",
       "      <th>...</th>\n",
       "      <td>...</td>\n",
       "    </tr>\n",
       "    <tr>\n",
       "      <th>362799</th>\n",
       "      <td>2.0</td>\n",
       "    </tr>\n",
       "    <tr>\n",
       "      <th>362801</th>\n",
       "      <td>1.0</td>\n",
       "    </tr>\n",
       "    <tr>\n",
       "      <th>362803</th>\n",
       "      <td>4.0</td>\n",
       "    </tr>\n",
       "    <tr>\n",
       "      <th>362804</th>\n",
       "      <td>1.0</td>\n",
       "    </tr>\n",
       "    <tr>\n",
       "      <th>362805</th>\n",
       "      <td>1.0</td>\n",
       "    </tr>\n",
       "  </tbody>\n",
       "</table>\n",
       "<p>280111 rows × 1 columns</p>\n",
       "</div>"
      ],
      "text/plain": [
       "        Sideeffect\n",
       "0              1.0\n",
       "1              1.0\n",
       "6              4.0\n",
       "7              1.0\n",
       "9              4.0\n",
       "...            ...\n",
       "362799         2.0\n",
       "362801         1.0\n",
       "362803         4.0\n",
       "362804         1.0\n",
       "362805         1.0\n",
       "\n",
       "[280111 rows x 1 columns]"
      ]
     },
     "execution_count": 40,
     "metadata": {},
     "output_type": "execute_result"
    }
   ],
   "source": [
    "data4 = pd.DataFrame(data['Sideeffect'])\n",
    "data4"
   ]
  },
  {
   "cell_type": "markdown",
   "id": "f8339685",
   "metadata": {},
   "source": [
    "Hence data3 froms our final dataset and data4 forms target"
   ]
  },
  {
   "cell_type": "code",
   "execution_count": 41,
   "id": "64b7e24c",
   "metadata": {},
   "outputs": [
    {
     "data": {
      "text/plain": [
       "Race_African American      0\n",
       "Race_American Indian       0\n",
       "Race_Asian                 0\n",
       "Race_Asian Americans       0\n",
       "Race_Native Hawaiian       0\n",
       "Race_White                 0\n",
       "Age_2023-06-03 00:00:00    0\n",
       "Age_2023-12-07 00:00:00    0\n",
       "Age_0-2                    0\n",
       "Age_13-18                  0\n",
       "Age_19-24                  0\n",
       "Age_25-34                  0\n",
       "Age_35-44                  0\n",
       "Age_45-54                  0\n",
       "Age_55-64                  0\n",
       "Age_65-74                  0\n",
       "Age_75 or over             0\n",
       "Sex_Female                 0\n",
       "Sex_Male                   0\n",
       "Month_1                    0\n",
       "Month_10                   0\n",
       "Month_11                   0\n",
       "Month_12                   0\n",
       "Month_2                    0\n",
       "Month_3                    0\n",
       "Month_4                    0\n",
       "Month_5                    0\n",
       "Month_6                    0\n",
       "Month_7                    0\n",
       "Month_8                    0\n",
       "Month_9                    0\n",
       "day_of_week_Friday         0\n",
       "day_of_week_Monday         0\n",
       "day_of_week_Saturday       0\n",
       "day_of_week_Sunday         0\n",
       "day_of_week_Thursday       0\n",
       "day_of_week_Tuesday        0\n",
       "day_of_week_Wednesday      0\n",
       "Effectiveness              0\n",
       "dtype: int64"
      ]
     },
     "execution_count": 41,
     "metadata": {},
     "output_type": "execute_result"
    }
   ],
   "source": [
    "data3.isna().sum()"
   ]
  },
  {
   "cell_type": "code",
   "execution_count": 42,
   "id": "e4c21e7a",
   "metadata": {},
   "outputs": [
    {
     "data": {
      "text/plain": [
       "Sideeffect    0\n",
       "dtype: int64"
      ]
     },
     "execution_count": 42,
     "metadata": {},
     "output_type": "execute_result"
    }
   ],
   "source": [
    "data4.isna().sum()"
   ]
  },
  {
   "cell_type": "code",
   "execution_count": null,
   "id": "0768562e",
   "metadata": {},
   "outputs": [],
   "source": [
    "#data4.dropna(axis=0, inplace = True)\n",
    "#data4.isna().sum()"
   ]
  },
  {
   "cell_type": "markdown",
   "id": "97b4caa9",
   "metadata": {},
   "source": [
    "Now we have to split and train data"
   ]
  },
  {
   "cell_type": "code",
   "execution_count": 43,
   "id": "91149f39",
   "metadata": {},
   "outputs": [],
   "source": [
    "from sklearn.model_selection import train_test_split\n",
    "X_train, X_test, Y_train, Y_test = train_test_split(data3,data4,test_size=0.25, random_state = 42, stratify=data4)"
   ]
  },
  {
   "cell_type": "markdown",
   "id": "26a4db3e",
   "metadata": {},
   "source": [
    "Log Regression"
   ]
  },
  {
   "cell_type": "code",
   "execution_count": 44,
   "id": "305ffd32",
   "metadata": {},
   "outputs": [
    {
     "name": "stderr",
     "output_type": "stream",
     "text": [
      "C:\\Users\\AD15855\\AppData\\Local\\anaconda3\\lib\\site-packages\\sklearn\\utils\\validation.py:1143: DataConversionWarning: A column-vector y was passed when a 1d array was expected. Please change the shape of y to (n_samples, ), for example using ravel().\n",
      "  y = column_or_1d(y, warn=True)\n",
      "C:\\Users\\AD15855\\AppData\\Local\\anaconda3\\lib\\site-packages\\sklearn\\linear_model\\_logistic.py:458: ConvergenceWarning: lbfgs failed to converge (status=1):\n",
      "STOP: TOTAL NO. of ITERATIONS REACHED LIMIT.\n",
      "\n",
      "Increase the number of iterations (max_iter) or scale the data as shown in:\n",
      "    https://scikit-learn.org/stable/modules/preprocessing.html\n",
      "Please also refer to the documentation for alternative solver options:\n",
      "    https://scikit-learn.org/stable/modules/linear_model.html#logistic-regression\n",
      "  n_iter_i = _check_optimize_result(\n",
      "C:\\Users\\AD15855\\AppData\\Local\\anaconda3\\lib\\site-packages\\sklearn\\metrics\\_classification.py:1344: UndefinedMetricWarning: Precision and F-score are ill-defined and being set to 0.0 in labels with no predicted samples. Use `zero_division` parameter to control this behavior.\n",
      "  _warn_prf(average, modifier, msg_start, len(result))\n"
     ]
    },
    {
     "name": "stdout",
     "output_type": "stream",
     "text": [
      "[[18389  2399     9     0   276]\n",
      " [ 3175  7448    50     0  1086]\n",
      " [ 1633  2836   139     0  5129]\n",
      " [  771  1293    71     0  4874]\n",
      " [ 1388  1678    72     0 17312]]\n",
      "0.6181527389044382\n",
      "              precision    recall  f1-score   support\n",
      "\n",
      "         1.0       0.73      0.87      0.79     21073\n",
      "         2.0       0.48      0.63      0.54     11759\n",
      "         3.0       0.41      0.01      0.03      9737\n",
      "         4.0       0.00      0.00      0.00      7009\n",
      "         5.0       0.60      0.85      0.70     20450\n",
      "\n",
      "    accuracy                           0.62     70028\n",
      "   macro avg       0.44      0.47      0.41     70028\n",
      "weighted avg       0.53      0.62      0.54     70028\n",
      "\n"
     ]
    },
    {
     "name": "stderr",
     "output_type": "stream",
     "text": [
      "C:\\Users\\AD15855\\AppData\\Local\\anaconda3\\lib\\site-packages\\sklearn\\metrics\\_classification.py:1344: UndefinedMetricWarning: Precision and F-score are ill-defined and being set to 0.0 in labels with no predicted samples. Use `zero_division` parameter to control this behavior.\n",
      "  _warn_prf(average, modifier, msg_start, len(result))\n",
      "C:\\Users\\AD15855\\AppData\\Local\\anaconda3\\lib\\site-packages\\sklearn\\metrics\\_classification.py:1344: UndefinedMetricWarning: Precision and F-score are ill-defined and being set to 0.0 in labels with no predicted samples. Use `zero_division` parameter to control this behavior.\n",
      "  _warn_prf(average, modifier, msg_start, len(result))\n"
     ]
    }
   ],
   "source": [
    "#log regression\n",
    "from sklearn.linear_model import LogisticRegression\n",
    "log_reg=LogisticRegression()\n",
    "# solver='lbfgs',max_iter=10000\n",
    "model1 = log_reg.fit(X_train,Y_train)\n",
    "Y_pred_logreg = model1.predict(X_test)\n",
    "\n",
    "#metrics\n",
    "from sklearn.metrics import confusion_matrix, precision_score, recall_score, f1_score, accuracy_score\n",
    "print(confusion_matrix(Y_test,Y_pred_logreg))\n",
    "print(accuracy_score(Y_test,Y_pred_logreg))\n",
    "\n",
    "#CLassification Report\n",
    "from sklearn.metrics import classification_report\n",
    "report = classification_report(Y_test,Y_pred_logreg)\n",
    "print(report)"
   ]
  },
  {
   "cell_type": "code",
   "execution_count": 45,
   "id": "acb307e9",
   "metadata": {},
   "outputs": [
    {
     "name": "stderr",
     "output_type": "stream",
     "text": [
      "C:\\Users\\AD15855\\AppData\\Local\\anaconda3\\lib\\site-packages\\sklearn\\neighbors\\_classification.py:215: DataConversionWarning: A column-vector y was passed when a 1d array was expected. Please change the shape of y to (n_samples,), for example using ravel().\n",
      "  return self._fit(X, y)\n",
      "C:\\Users\\AD15855\\AppData\\Local\\anaconda3\\lib\\site-packages\\sklearn\\neighbors\\_classification.py:215: DataConversionWarning: A column-vector y was passed when a 1d array was expected. Please change the shape of y to (n_samples,), for example using ravel().\n",
      "  return self._fit(X, y)\n",
      "C:\\Users\\AD15855\\AppData\\Local\\anaconda3\\lib\\site-packages\\sklearn\\neighbors\\_classification.py:215: DataConversionWarning: A column-vector y was passed when a 1d array was expected. Please change the shape of y to (n_samples,), for example using ravel().\n",
      "  return self._fit(X, y)\n",
      "C:\\Users\\AD15855\\AppData\\Local\\anaconda3\\lib\\site-packages\\sklearn\\neighbors\\_classification.py:215: DataConversionWarning: A column-vector y was passed when a 1d array was expected. Please change the shape of y to (n_samples,), for example using ravel().\n",
      "  return self._fit(X, y)\n",
      "C:\\Users\\AD15855\\AppData\\Local\\anaconda3\\lib\\site-packages\\sklearn\\neighbors\\_classification.py:215: DataConversionWarning: A column-vector y was passed when a 1d array was expected. Please change the shape of y to (n_samples,), for example using ravel().\n",
      "  return self._fit(X, y)\n",
      "C:\\Users\\AD15855\\AppData\\Local\\anaconda3\\lib\\site-packages\\sklearn\\neighbors\\_classification.py:215: DataConversionWarning: A column-vector y was passed when a 1d array was expected. Please change the shape of y to (n_samples,), for example using ravel().\n",
      "  return self._fit(X, y)\n",
      "C:\\Users\\AD15855\\AppData\\Local\\anaconda3\\lib\\site-packages\\sklearn\\neighbors\\_classification.py:215: DataConversionWarning: A column-vector y was passed when a 1d array was expected. Please change the shape of y to (n_samples,), for example using ravel().\n",
      "  return self._fit(X, y)\n",
      "C:\\Users\\AD15855\\AppData\\Local\\anaconda3\\lib\\site-packages\\sklearn\\neighbors\\_classification.py:215: DataConversionWarning: A column-vector y was passed when a 1d array was expected. Please change the shape of y to (n_samples,), for example using ravel().\n",
      "  return self._fit(X, y)\n",
      "C:\\Users\\AD15855\\AppData\\Local\\anaconda3\\lib\\site-packages\\sklearn\\neighbors\\_classification.py:215: DataConversionWarning: A column-vector y was passed when a 1d array was expected. Please change the shape of y to (n_samples,), for example using ravel().\n",
      "  return self._fit(X, y)\n",
      "C:\\Users\\AD15855\\AppData\\Local\\anaconda3\\lib\\site-packages\\sklearn\\neighbors\\_classification.py:215: DataConversionWarning: A column-vector y was passed when a 1d array was expected. Please change the shape of y to (n_samples,), for example using ravel().\n",
      "  return self._fit(X, y)\n",
      "C:\\Users\\AD15855\\AppData\\Local\\anaconda3\\lib\\site-packages\\sklearn\\neighbors\\_classification.py:215: DataConversionWarning: A column-vector y was passed when a 1d array was expected. Please change the shape of y to (n_samples,), for example using ravel().\n",
      "  return self._fit(X, y)\n",
      "C:\\Users\\AD15855\\AppData\\Local\\anaconda3\\lib\\site-packages\\sklearn\\neighbors\\_classification.py:215: DataConversionWarning: A column-vector y was passed when a 1d array was expected. Please change the shape of y to (n_samples,), for example using ravel().\n",
      "  return self._fit(X, y)\n"
     ]
    },
    {
     "data": {
      "image/png": "[encoded data removed]",
      "text/plain": [
       "<Figure size 640x480 with 1 Axes>"
      ]
     },
     "metadata": {},
     "output_type": "display_data"
    }
   ],
   "source": [
    "from sklearn.neighbors import KNeighborsClassifier\n",
    "metric_k = []\n",
    "neighbours = np.arange(3,15)\n",
    "\n",
    "for k in neighbours:\n",
    "        knn = KNeighborsClassifier(n_neighbors=k)\n",
    "        model2 = knn.fit(X_train, Y_train)\n",
    "        Y_pred_knn = model2.predict(X_test)\n",
    "        acc=accuracy_score(Y_test,Y_pred_knn)\n",
    "        metric_k.append(acc)\n",
    "        \n",
    "plt.plot(neighbours,metric_k,'*-')\n",
    "plt.xlabel('k value')\n",
    "plt.ylabel('accuracy')\n",
    "plt.grid()"
   ]
  },
  {
   "cell_type": "code",
   "execution_count": 46,
   "id": "cfa24dfc",
   "metadata": {},
   "outputs": [
    {
     "name": "stderr",
     "output_type": "stream",
     "text": [
      "C:\\Users\\AD15855\\AppData\\Local\\anaconda3\\lib\\site-packages\\sklearn\\neighbors\\_classification.py:215: DataConversionWarning: A column-vector y was passed when a 1d array was expected. Please change the shape of y to (n_samples,), for example using ravel().\n",
      "  return self._fit(X, y)\n"
     ]
    },
    {
     "name": "stdout",
     "output_type": "stream",
     "text": [
      "[[18396  1977   390    70   240]\n",
      " [ 5100  5016  1011   217   415]\n",
      " [ 2777  2392  2681   619  1268]\n",
      " [ 1326  1164  1473   797  2249]\n",
      " [ 2043  1512  1756   886 14253]]\n",
      "0.5875221340035415\n",
      "              precision    recall  f1-score   support\n",
      "\n",
      "         1.0       0.62      0.87      0.73     21073\n",
      "         2.0       0.42      0.43      0.42     11759\n",
      "         3.0       0.37      0.28      0.31      9737\n",
      "         4.0       0.31      0.11      0.17      7009\n",
      "         5.0       0.77      0.70      0.73     20450\n",
      "\n",
      "    accuracy                           0.59     70028\n",
      "   macro avg       0.50      0.48      0.47     70028\n",
      "weighted avg       0.56      0.59      0.56     70028\n",
      "\n"
     ]
    }
   ],
   "source": [
    "knn = KNeighborsClassifier(n_neighbors=11)\n",
    "model2 = knn.fit(X_train, Y_train)\n",
    "Y_pred_knn = model2.predict(X_test)\n",
    "# metrics\n",
    "print(confusion_matrix(Y_test,Y_pred_knn))\n",
    "print(accuracy_score(Y_test,Y_pred_knn))\n",
    "\n",
    "\n",
    "#CLassification Report\n",
    "from sklearn.metrics import classification_report\n",
    "report = classification_report(Y_test,Y_pred_knn)\n",
    "print(report)"
   ]
  },
  {
   "cell_type": "code",
   "execution_count": 47,
   "id": "593cc164",
   "metadata": {},
   "outputs": [
    {
     "name": "stdout",
     "output_type": "stream",
     "text": [
      "[[18288  2064   425    87   209]\n",
      " [ 3764  6210  1171   264   350]\n",
      " [ 1890  2531  3478   807  1031]\n",
      " [  908  1147  1828  1305  1821]\n",
      " [ 1549  1546  2117  1466 13772]]\n",
      "0.6147969383675101\n",
      "              precision    recall  f1-score   support\n",
      "\n",
      "         1.0       0.69      0.87      0.77     21073\n",
      "         2.0       0.46      0.53      0.49     11759\n",
      "         3.0       0.39      0.36      0.37      9737\n",
      "         4.0       0.33      0.19      0.24      7009\n",
      "         5.0       0.80      0.67      0.73     20450\n",
      "\n",
      "    accuracy                           0.61     70028\n",
      "   macro avg       0.53      0.52      0.52     70028\n",
      "weighted avg       0.61      0.61      0.60     70028\n",
      "\n"
     ]
    }
   ],
   "source": [
    "#decision tree\n",
    "from sklearn.tree import DecisionTreeClassifier\n",
    "dtm_clf = DecisionTreeClassifier(random_state = 42)\n",
    "dtm_clf.fit(X_train, Y_train)\n",
    "y_pred_dtm = dtm_clf.predict(X_test)\n",
    "# metrics\n",
    "print(confusion_matrix(Y_test, y_pred_dtm))\n",
    "print(accuracy_score(Y_test, y_pred_dtm))\n",
    "\n",
    "#CLassification Report\n",
    "from sklearn.metrics import classification_report\n",
    "report = classification_report(Y_test,y_pred_dtm)\n",
    "print(report)"
   ]
  },
  {
   "cell_type": "code",
   "execution_count": 48,
   "id": "c645a119",
   "metadata": {},
   "outputs": [
    {
     "name": "stderr",
     "output_type": "stream",
     "text": [
      "C:\\Windows\\Temp\\ipykernel_22424\\2820887269.py:4: DataConversionWarning: A column-vector y was passed when a 1d array was expected. Please change the shape of y to (n_samples,), for example using ravel().\n",
      "  rfm_clf.fit(X_train, Y_train)\n"
     ]
    },
    {
     "name": "stdout",
     "output_type": "stream",
     "text": [
      "[[18041  2125   480   125   302]\n",
      " [ 3463  6152  1294   325   525]\n",
      " [ 1736  2432  3317   875  1377]\n",
      " [  838  1084  1642  1243  2202]\n",
      " [ 1447  1468  1899  1268 14368]]\n",
      "0.6157679785228766\n",
      "              precision    recall  f1-score   support\n",
      "\n",
      "         1.0       0.71      0.86      0.77     21073\n",
      "         2.0       0.46      0.52      0.49     11759\n",
      "         3.0       0.38      0.34      0.36      9737\n",
      "         4.0       0.32      0.18      0.23      7009\n",
      "         5.0       0.77      0.70      0.73     20450\n",
      "\n",
      "    accuracy                           0.62     70028\n",
      "   macro avg       0.53      0.52      0.52     70028\n",
      "weighted avg       0.60      0.62      0.60     70028\n",
      "\n"
     ]
    }
   ],
   "source": [
    "#random forest model\n",
    "from sklearn.ensemble import RandomForestClassifier\n",
    "rfm_clf = RandomForestClassifier(random_state = 42)\n",
    "rfm_clf.fit(X_train, Y_train)\n",
    "y_pred_rfm = rfm_clf.predict(X_test)\n",
    "# metrics\n",
    "print(confusion_matrix(Y_test, y_pred_rfm))\n",
    "print(accuracy_score(Y_test, y_pred_rfm))\n",
    "\n",
    "\n",
    "#CLassification Report\n",
    "from sklearn.metrics import classification_report\n",
    "report = classification_report(Y_test,y_pred_rfm)\n",
    "print(report)"
   ]
  },
  {
   "cell_type": "markdown",
   "id": "a826d2dd",
   "metadata": {},
   "source": [
    "Bagging Classifier"
   ]
  },
  {
   "cell_type": "code",
   "execution_count": 52,
   "id": "b6913ff9",
   "metadata": {},
   "outputs": [
    {
     "name": "stderr",
     "output_type": "stream",
     "text": [
      "C:\\Users\\AD15855\\AppData\\Local\\anaconda3\\lib\\site-packages\\sklearn\\ensemble\\_bagging.py:802: DataConversionWarning: A column-vector y was passed when a 1d array was expected. Please change the shape of y to (n_samples, ), for example using ravel().\n",
      "  y = column_or_1d(y, warn=True)\n"
     ]
    },
    {
     "name": "stdout",
     "output_type": "stream",
     "text": [
      "[[17971  2119   528   139   316]\n",
      " [ 3483  6029  1332   337   578]\n",
      " [ 1772  2411  3231   893  1430]\n",
      " [  849  1052  1651  1285  2172]\n",
      " [ 1450  1445  1887  1332 14336]]\n",
      "0.6119266579082653\n",
      "              precision    recall  f1-score   support\n",
      "\n",
      "         1.0       0.70      0.85      0.77     21073\n",
      "         2.0       0.46      0.51      0.49     11759\n",
      "         3.0       0.37      0.33      0.35      9737\n",
      "         4.0       0.32      0.18      0.23      7009\n",
      "         5.0       0.76      0.70      0.73     20450\n",
      "\n",
      "    accuracy                           0.61     70028\n",
      "   macro avg       0.52      0.52      0.51     70028\n",
      "weighted avg       0.60      0.61      0.60     70028\n",
      "\n"
     ]
    }
   ],
   "source": [
    "from sklearn.ensemble import BaggingClassifier\n",
    "bag_clf = BaggingClassifier()\n",
    "bag_clf.fit(X_train, Y_train)\n",
    "y_pred_bag = bag_clf.predict(X_test)\n",
    "# metrics\n",
    "print(confusion_matrix(Y_test, y_pred_bag))\n",
    "print(accuracy_score(Y_test, y_pred_bag))\n",
    "\n",
    "\n",
    "#CLassification Report\n",
    "from sklearn.metrics import classification_report\n",
    "report = classification_report(Y_test,y_pred_bag)\n",
    "print(report)"
   ]
  },
  {
   "cell_type": "code",
   "execution_count": 53,
   "id": "00369faf",
   "metadata": {},
   "outputs": [
    {
     "name": "stderr",
     "output_type": "stream",
     "text": [
      "C:\\Users\\AD15855\\AppData\\Local\\anaconda3\\lib\\site-packages\\sklearn\\ensemble\\_gb.py:437: DataConversionWarning: A column-vector y was passed when a 1d array was expected. Please change the shape of y to (n_samples, ), for example using ravel().\n",
      "  y = column_or_1d(y, warn=True)\n"
     ]
    },
    {
     "name": "stdout",
     "output_type": "stream",
     "text": [
      "[[18389  2401   209     0    74]\n",
      " [ 3173  7460  1034     0    92]\n",
      " [ 1633  2837  4641     6   620]\n",
      " [  771  1295  2494    23  2426]\n",
      " [ 1388  1686  2795     3 14578]]\n",
      "0.6438995830239332\n",
      "              precision    recall  f1-score   support\n",
      "\n",
      "         1.0       0.73      0.87      0.79     21073\n",
      "         2.0       0.48      0.63      0.54     11759\n",
      "         3.0       0.42      0.48      0.44      9737\n",
      "         4.0       0.72      0.00      0.01      7009\n",
      "         5.0       0.82      0.71      0.76     20450\n",
      "\n",
      "    accuracy                           0.64     70028\n",
      "   macro avg       0.63      0.54      0.51     70028\n",
      "weighted avg       0.67      0.64      0.61     70028\n",
      "\n"
     ]
    }
   ],
   "source": [
    "from sklearn.ensemble import GradientBoostingClassifier\n",
    "grd_clf = GradientBoostingClassifier()\n",
    "grd_clf.fit(X_train, Y_train)\n",
    "y_pred_grd = grd_clf.predict(X_test)\n",
    "# metrics\n",
    "print(confusion_matrix(Y_test, y_pred_grd))\n",
    "print(accuracy_score(Y_test, y_pred_grd))\n",
    "\n",
    "\n",
    "#CLassification Report\n",
    "from sklearn.metrics import classification_report\n",
    "report = classification_report(Y_test,y_pred_grd)\n",
    "print(report)"
   ]
  },
  {
   "cell_type": "code",
   "execution_count": null,
   "id": "fae23545",
   "metadata": {},
   "outputs": [],
   "source": []
  }
 ],
 "metadata": {
  "kernelspec": {
   "display_name": "Python 3 (ipykernel)",
   "language": "python",
   "name": "python3"
  },
  "language_info": {
   "codemirror_mode": {
    "name": "ipython",
    "version": 3
   },
   "file_extension": ".py",
   "mimetype": "text/x-python",
   "name": "python",
   "nbconvert_exporter": "python",
   "pygments_lexer": "ipython3",
   "version": "3.10.9"
  }
 },
 "nbformat": 4,
 "nbformat_minor": 5
}
