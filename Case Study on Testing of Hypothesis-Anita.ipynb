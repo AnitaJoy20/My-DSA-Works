{
 "cells": [
  {
   "cell_type": "code",
   "execution_count": 1,
   "id": "a90b8741",
   "metadata": {},
   "outputs": [],
   "source": [
    "import numpy as np\n",
    "import pandas as pd\n",
    "import matplotlib.pyplot as plt\n",
    "import seaborn as sns"
   ]
  },
  {
   "cell_type": "code",
   "execution_count": 2,
   "id": "947735e4",
   "metadata": {},
   "outputs": [],
   "source": [
    "data=pd.read_csv(r'C:\\Users\\AD15855\\OneDrive - Lumen\\Desktop\\python\\assignment\\Sales_add.csv')"
   ]
  },
  {
   "cell_type": "markdown",
   "id": "80c12633",
   "metadata": {},
   "source": [
    "# To clarify whether there is any increase in sales after stepping into digital marketing\n"
   ]
  },
  {
   "cell_type": "markdown",
   "id": "e96ba199",
   "metadata": {},
   "source": [
    "Data checking"
   ]
  },
  {
   "cell_type": "code",
   "execution_count": 3,
   "id": "4ff3b5ac",
   "metadata": {},
   "outputs": [
    {
     "data": {
      "text/html": [
       "<div>\n",
       "<style scoped>\n",
       "    .dataframe tbody tr th:only-of-type {\n",
       "        vertical-align: middle;\n",
       "    }\n",
       "\n",
       "    .dataframe tbody tr th {\n",
       "        vertical-align: top;\n",
       "    }\n",
       "\n",
       "    .dataframe thead th {\n",
       "        text-align: right;\n",
       "    }\n",
       "</style>\n",
       "<table border=\"1\" class=\"dataframe\">\n",
       "  <thead>\n",
       "    <tr style=\"text-align: right;\">\n",
       "      <th></th>\n",
       "      <th>Month</th>\n",
       "      <th>Region</th>\n",
       "      <th>Manager</th>\n",
       "      <th>Sales_before_digital_add(in $)</th>\n",
       "      <th>Sales_After_digital_add(in $)</th>\n",
       "    </tr>\n",
       "  </thead>\n",
       "  <tbody>\n",
       "    <tr>\n",
       "      <th>0</th>\n",
       "      <td>Month-1</td>\n",
       "      <td>Region - A</td>\n",
       "      <td>Manager - A</td>\n",
       "      <td>132921</td>\n",
       "      <td>270390</td>\n",
       "    </tr>\n",
       "    <tr>\n",
       "      <th>1</th>\n",
       "      <td>Month-2</td>\n",
       "      <td>Region - A</td>\n",
       "      <td>Manager - C</td>\n",
       "      <td>149559</td>\n",
       "      <td>223334</td>\n",
       "    </tr>\n",
       "    <tr>\n",
       "      <th>2</th>\n",
       "      <td>Month-3</td>\n",
       "      <td>Region - B</td>\n",
       "      <td>Manager - A</td>\n",
       "      <td>146278</td>\n",
       "      <td>244243</td>\n",
       "    </tr>\n",
       "    <tr>\n",
       "      <th>3</th>\n",
       "      <td>Month-4</td>\n",
       "      <td>Region - B</td>\n",
       "      <td>Manager - B</td>\n",
       "      <td>152167</td>\n",
       "      <td>231808</td>\n",
       "    </tr>\n",
       "    <tr>\n",
       "      <th>4</th>\n",
       "      <td>Month-5</td>\n",
       "      <td>Region - C</td>\n",
       "      <td>Manager - B</td>\n",
       "      <td>159525</td>\n",
       "      <td>258402</td>\n",
       "    </tr>\n",
       "  </tbody>\n",
       "</table>\n",
       "</div>"
      ],
      "text/plain": [
       "     Month      Region      Manager  Sales_before_digital_add(in $)  \\\n",
       "0  Month-1  Region - A  Manager - A                          132921   \n",
       "1  Month-2  Region - A  Manager - C                          149559   \n",
       "2  Month-3  Region - B  Manager - A                          146278   \n",
       "3  Month-4  Region - B  Manager - B                          152167   \n",
       "4  Month-5  Region - C  Manager - B                          159525   \n",
       "\n",
       "   Sales_After_digital_add(in $)  \n",
       "0                         270390  \n",
       "1                         223334  \n",
       "2                         244243  \n",
       "3                         231808  \n",
       "4                         258402  "
      ]
     },
     "execution_count": 3,
     "metadata": {},
     "output_type": "execute_result"
    }
   ],
   "source": [
    "data.head()"
   ]
  },
  {
   "cell_type": "code",
   "execution_count": 4,
   "id": "7cbfe1b3",
   "metadata": {},
   "outputs": [
    {
     "data": {
      "text/html": [
       "<div>\n",
       "<style scoped>\n",
       "    .dataframe tbody tr th:only-of-type {\n",
       "        vertical-align: middle;\n",
       "    }\n",
       "\n",
       "    .dataframe tbody tr th {\n",
       "        vertical-align: top;\n",
       "    }\n",
       "\n",
       "    .dataframe thead th {\n",
       "        text-align: right;\n",
       "    }\n",
       "</style>\n",
       "<table border=\"1\" class=\"dataframe\">\n",
       "  <thead>\n",
       "    <tr style=\"text-align: right;\">\n",
       "      <th></th>\n",
       "      <th>Sales_before_digital_add(in $)</th>\n",
       "      <th>Sales_After_digital_add(in $)</th>\n",
       "    </tr>\n",
       "  </thead>\n",
       "  <tbody>\n",
       "    <tr>\n",
       "      <th>count</th>\n",
       "      <td>22.000000</td>\n",
       "      <td>22.000000</td>\n",
       "    </tr>\n",
       "    <tr>\n",
       "      <th>mean</th>\n",
       "      <td>149239.954545</td>\n",
       "      <td>231123.727273</td>\n",
       "    </tr>\n",
       "    <tr>\n",
       "      <th>std</th>\n",
       "      <td>14844.042921</td>\n",
       "      <td>25556.777061</td>\n",
       "    </tr>\n",
       "    <tr>\n",
       "      <th>min</th>\n",
       "      <td>130263.000000</td>\n",
       "      <td>187305.000000</td>\n",
       "    </tr>\n",
       "    <tr>\n",
       "      <th>25%</th>\n",
       "      <td>138087.750000</td>\n",
       "      <td>214960.750000</td>\n",
       "    </tr>\n",
       "    <tr>\n",
       "      <th>50%</th>\n",
       "      <td>147444.000000</td>\n",
       "      <td>229986.500000</td>\n",
       "    </tr>\n",
       "    <tr>\n",
       "      <th>75%</th>\n",
       "      <td>157627.500000</td>\n",
       "      <td>250909.000000</td>\n",
       "    </tr>\n",
       "    <tr>\n",
       "      <th>max</th>\n",
       "      <td>178939.000000</td>\n",
       "      <td>276279.000000</td>\n",
       "    </tr>\n",
       "  </tbody>\n",
       "</table>\n",
       "</div>"
      ],
      "text/plain": [
       "       Sales_before_digital_add(in $)  Sales_After_digital_add(in $)\n",
       "count                       22.000000                      22.000000\n",
       "mean                    149239.954545                  231123.727273\n",
       "std                      14844.042921                   25556.777061\n",
       "min                     130263.000000                  187305.000000\n",
       "25%                     138087.750000                  214960.750000\n",
       "50%                     147444.000000                  229986.500000\n",
       "75%                     157627.500000                  250909.000000\n",
       "max                     178939.000000                  276279.000000"
      ]
     },
     "execution_count": 4,
     "metadata": {},
     "output_type": "execute_result"
    }
   ],
   "source": [
    "data.describe()"
   ]
  },
  {
   "cell_type": "code",
   "execution_count": 5,
   "id": "728552d7",
   "metadata": {},
   "outputs": [
    {
     "name": "stderr",
     "output_type": "stream",
     "text": [
      "C:\\Windows\\Temp\\ipykernel_1372\\531903386.py:1: FutureWarning: The default value of numeric_only in DataFrame.mean is deprecated. In a future version, it will default to False. In addition, specifying 'numeric_only=None' is deprecated. Select only valid columns or specify the value of numeric_only to silence this warning.\n",
      "  data.mean()\n"
     ]
    },
    {
     "data": {
      "text/plain": [
       "Sales_before_digital_add(in $)    149239.954545\n",
       "Sales_After_digital_add(in $)     231123.727273\n",
       "dtype: float64"
      ]
     },
     "execution_count": 5,
     "metadata": {},
     "output_type": "execute_result"
    }
   ],
   "source": [
    "data.mean()"
   ]
  },
  {
   "cell_type": "code",
   "execution_count": 6,
   "id": "9b071284",
   "metadata": {},
   "outputs": [
    {
     "data": {
      "text/plain": [
       "(22, 5)"
      ]
     },
     "execution_count": 6,
     "metadata": {},
     "output_type": "execute_result"
    }
   ],
   "source": [
    "data.shape"
   ]
  },
  {
   "cell_type": "code",
   "execution_count": 7,
   "id": "c3de98ce",
   "metadata": {},
   "outputs": [
    {
     "data": {
      "text/plain": [
       "149239.95454545456"
      ]
     },
     "execution_count": 7,
     "metadata": {},
     "output_type": "execute_result"
    }
   ],
   "source": [
    "data['Sales_before_digital_add(in $)'].mean()"
   ]
  },
  {
   "cell_type": "code",
   "execution_count": 8,
   "id": "a0c820e4",
   "metadata": {},
   "outputs": [
    {
     "data": {
      "text/plain": [
       "231123.72727272726"
      ]
     },
     "execution_count": 8,
     "metadata": {},
     "output_type": "execute_result"
    }
   ],
   "source": [
    "data['Sales_After_digital_add(in $)'].mean()"
   ]
  },
  {
   "cell_type": "code",
   "execution_count": 9,
   "id": "df7ff0fd",
   "metadata": {},
   "outputs": [
    {
     "data": {
      "text/plain": [
       "220345610.2359307"
      ]
     },
     "execution_count": 9,
     "metadata": {},
     "output_type": "execute_result"
    }
   ],
   "source": [
    "data['Sales_before_digital_add(in $)'].var()"
   ]
  },
  {
   "cell_type": "code",
   "execution_count": 10,
   "id": "69abd974",
   "metadata": {},
   "outputs": [
    {
     "data": {
      "text/plain": [
       "653148853.7316018"
      ]
     },
     "execution_count": 10,
     "metadata": {},
     "output_type": "execute_result"
    }
   ],
   "source": [
    "data['Sales_After_digital_add(in $)'].var()"
   ]
  },
  {
   "cell_type": "code",
   "execution_count": 11,
   "id": "c0649e78",
   "metadata": {},
   "outputs": [
    {
     "data": {
      "text/plain": [
       "0.5780328152845783"
      ]
     },
     "execution_count": 11,
     "metadata": {},
     "output_type": "execute_result"
    }
   ],
   "source": [
    "data['Sales_before_digital_add(in $)'].skew()"
   ]
  },
  {
   "cell_type": "code",
   "execution_count": 12,
   "id": "b2e6bfdc",
   "metadata": {},
   "outputs": [
    {
     "data": {
      "text/plain": [
       "-0.02266883113277529"
      ]
     },
     "execution_count": 12,
     "metadata": {},
     "output_type": "execute_result"
    }
   ],
   "source": [
    "data['Sales_After_digital_add(in $)'].skew()"
   ]
  },
  {
   "cell_type": "markdown",
   "id": "73a0e7bb",
   "metadata": {},
   "source": [
    "So this is Highly skewed distribution"
   ]
  },
  {
   "cell_type": "code",
   "execution_count": 13,
   "id": "e4de2039",
   "metadata": {},
   "outputs": [],
   "source": [
    "import statistics as stat"
   ]
  },
  {
   "cell_type": "code",
   "execution_count": 14,
   "id": "159a6170",
   "metadata": {},
   "outputs": [
    {
     "data": {
      "text/plain": [
       "149239.95454545456"
      ]
     },
     "execution_count": 14,
     "metadata": {},
     "output_type": "execute_result"
    }
   ],
   "source": [
    "stat.mean(data['Sales_before_digital_add(in $)'])"
   ]
  },
  {
   "cell_type": "code",
   "execution_count": 15,
   "id": "dd016c62",
   "metadata": {},
   "outputs": [
    {
     "data": {
      "text/plain": [
       "231123.72727272726"
      ]
     },
     "execution_count": 15,
     "metadata": {},
     "output_type": "execute_result"
    }
   ],
   "source": [
    "stat.mean(data['Sales_After_digital_add(in $)'])"
   ]
  },
  {
   "cell_type": "code",
   "execution_count": 16,
   "id": "b79b4ab6",
   "metadata": {},
   "outputs": [
    {
     "data": {
      "text/plain": [
       "220345610.23593074"
      ]
     },
     "execution_count": 16,
     "metadata": {},
     "output_type": "execute_result"
    }
   ],
   "source": [
    "stat.variance(data['Sales_before_digital_add(in $)'])"
   ]
  },
  {
   "cell_type": "code",
   "execution_count": 17,
   "id": "cf326d05",
   "metadata": {},
   "outputs": [
    {
     "data": {
      "text/plain": [
       "653148853.7316017"
      ]
     },
     "execution_count": 17,
     "metadata": {},
     "output_type": "execute_result"
    }
   ],
   "source": [
    "stat.variance(data['Sales_After_digital_add(in $)'])"
   ]
  },
  {
   "cell_type": "code",
   "execution_count": 18,
   "id": "d8116f6d",
   "metadata": {},
   "outputs": [
    {
     "data": {
      "text/plain": [
       "14844.042920846421"
      ]
     },
     "execution_count": 18,
     "metadata": {},
     "output_type": "execute_result"
    }
   ],
   "source": [
    "stat.stdev(data['Sales_before_digital_add(in $)'])"
   ]
  },
  {
   "cell_type": "code",
   "execution_count": 19,
   "id": "e87ab8f8",
   "metadata": {},
   "outputs": [
    {
     "data": {
      "text/plain": [
       "25556.777060725042"
      ]
     },
     "execution_count": 19,
     "metadata": {},
     "output_type": "execute_result"
    }
   ],
   "source": [
    "stat.stdev(data['Sales_After_digital_add(in $)'])"
   ]
  },
  {
   "cell_type": "markdown",
   "id": "806e3c5d",
   "metadata": {},
   "source": [
    "Z-Test"
   ]
  },
  {
   "cell_type": "code",
   "execution_count": 20,
   "id": "495f12f8",
   "metadata": {},
   "outputs": [],
   "source": [
    " #Null hypo H0 :There is no increase in sales after stepping into digital marketing.\n",
    "#Alternate Hyp = There is increase in sales after stepping into digital marketing.\n"
   ]
  },
  {
   "cell_type": "code",
   "execution_count": 21,
   "id": "ce437520",
   "metadata": {},
   "outputs": [],
   "source": [
    "from statsmodels.stats.weightstats import ztest"
   ]
  },
  {
   "cell_type": "code",
   "execution_count": 22,
   "id": "fbc513bd",
   "metadata": {},
   "outputs": [],
   "source": [
    "z_stat,p_val =ztest(data['Sales_before_digital_add(in $)'],data['Sales_After_digital_add(in $)'],value =0)"
   ]
  },
  {
   "cell_type": "code",
   "execution_count": 23,
   "id": "07a2235a",
   "metadata": {},
   "outputs": [
    {
     "data": {
      "text/plain": [
       "-12.995084451110877"
      ]
     },
     "execution_count": 23,
     "metadata": {},
     "output_type": "execute_result"
    }
   ],
   "source": [
    "z_stat"
   ]
  },
  {
   "cell_type": "code",
   "execution_count": 24,
   "id": "81107bfa",
   "metadata": {},
   "outputs": [
    {
     "data": {
      "text/plain": [
       "1.3046367348248653e-38"
      ]
     },
     "execution_count": 24,
     "metadata": {},
     "output_type": "execute_result"
    }
   ],
   "source": [
    "p_val"
   ]
  },
  {
   "cell_type": "code",
   "execution_count": 25,
   "id": "e77be404",
   "metadata": {},
   "outputs": [
    {
     "name": "stdout",
     "output_type": "stream",
     "text": [
      "Reject Null hypothesis\n"
     ]
    }
   ],
   "source": [
    "if p_val<0.05:\n",
    "    print('Reject Null hypothesis')\n",
    "else:\n",
    "    print('Accept Null hypothesis')"
   ]
  },
  {
   "cell_type": "markdown",
   "id": "99378a8d",
   "metadata": {},
   "source": [
    "Meaning there is increase in sales after stepping into digital marketing."
   ]
  },
  {
   "cell_type": "markdown",
   "id": "249c9c11",
   "metadata": {},
   "source": [
    "# To check whether there is any dependency between the features “Region” and “Manager”"
   ]
  },
  {
   "cell_type": "markdown",
   "id": "2194f64f",
   "metadata": {},
   "source": [
    "Chi square test\n",
    "\n",
    "\n",
    "#Null Hypo : No relation\n",
    "\n",
    "#Acceptance Hypo : There is relation "
   ]
  },
  {
   "cell_type": "code",
   "execution_count": 26,
   "id": "d8fdf354",
   "metadata": {},
   "outputs": [],
   "source": [
    "from scipy.stats import chi2_contingency"
   ]
  },
  {
   "cell_type": "code",
   "execution_count": 27,
   "id": "9f66e55f",
   "metadata": {},
   "outputs": [],
   "source": [
    "\n",
    "Dep_data = (data['Sales_before_digital_add(in $)'],data['Sales_After_digital_add(in $)'])"
   ]
  },
  {
   "cell_type": "code",
   "execution_count": 28,
   "id": "d9d501f9",
   "metadata": {},
   "outputs": [
    {
     "data": {
      "text/plain": [
       "Chi2ContingencyResult(statistic=50418.98816785626, pvalue=0.0, dof=21, expected_freq=array([[158243.59208   , 146308.74878564, 153225.29220049,\n",
       "        150656.89571799, 163978.34352948, 154633.8689454 ,\n",
       "        138397.96206394, 141947.26157215, 155971.42831125,\n",
       "        131712.12704074, 142236.43178413, 178609.8854221 ,\n",
       "        137421.37501155, 158767.00193451, 147841.311673  ,\n",
       "        143015.66114775, 147437.57198762, 141058.95579207,\n",
       "        140926.337703  , 143240.09176003, 161187.08587953,\n",
       "        146461.76965765],\n",
       "       [245067.40792   , 226584.25121436, 237295.70779951,\n",
       "        233318.10428201, 253948.65647052, 239477.1310546 ,\n",
       "        214333.03793606, 219829.73842785, 241548.57168875,\n",
       "        203978.87295926, 220277.56821587, 276608.1145779 ,\n",
       "        212820.62498845, 245877.99806549, 228957.688327  ,\n",
       "        221484.33885225, 228332.42801238, 218454.04420793,\n",
       "        218248.662297  , 221831.90823997, 249625.91412047,\n",
       "        226821.23034235]]))"
      ]
     },
     "execution_count": 28,
     "metadata": {},
     "output_type": "execute_result"
    }
   ],
   "source": [
    "\n",
    "chi2_contingency(Dep_data)"
   ]
  },
  {
   "cell_type": "code",
   "execution_count": 29,
   "id": "6b905dbd",
   "metadata": {},
   "outputs": [],
   "source": [
    "\n",
    "chi_stat,p_value1,dof,relation = chi2_contingency(Dep_data)"
   ]
  },
  {
   "cell_type": "code",
   "execution_count": 30,
   "id": "931d485f",
   "metadata": {},
   "outputs": [
    {
     "data": {
      "text/plain": [
       "0.0"
      ]
     },
     "execution_count": 30,
     "metadata": {},
     "output_type": "execute_result"
    }
   ],
   "source": [
    "\n",
    "p_value1"
   ]
  },
  {
   "cell_type": "code",
   "execution_count": 31,
   "id": "d03f9d2e",
   "metadata": {},
   "outputs": [
    {
     "name": "stdout",
     "output_type": "stream",
     "text": [
      "Reject Null Hypotheses\n"
     ]
    }
   ],
   "source": [
    "\n",
    "if p_value1<0.05:\n",
    "    print('Reject Null Hypotheses')\n",
    "else:\n",
    "    print('Accept Null Hypotheses')"
   ]
  },
  {
   "cell_type": "code",
   "execution_count": 32,
   "id": "d65848a7",
   "metadata": {},
   "outputs": [],
   "source": [
    "\n",
    "data['Sales_Difference'] = (data['Sales_After_digital_add(in $)']-data['Sales_before_digital_add(in $)'])"
   ]
  },
  {
   "cell_type": "code",
   "execution_count": 33,
   "id": "d9591cfd",
   "metadata": {},
   "outputs": [],
   "source": [
    "\n",
    "data['Sales_Percentage'] = (data['Sales_Difference']/data['Sales_After_digital_add(in $)'])*100"
   ]
  },
  {
   "cell_type": "code",
   "execution_count": 34,
   "id": "2dbc30be",
   "metadata": {},
   "outputs": [
    {
     "data": {
      "image/png": "[encoded data removed]",
      "text/plain": [
       "<Figure size 621x500 with 1 Axes>"
      ]
     },
     "metadata": {},
     "output_type": "display_data"
    }
   ],
   "source": [
    "\n",
    "sns.catplot(data=data, y=\"Manager\", x=\"Sales_Percentage\",hue=\"Region\",kind=\"bar\")\n",
    "plt.show()"
   ]
  },
  {
   "cell_type": "code",
   "execution_count": null,
   "id": "a79ad053",
   "metadata": {},
   "outputs": [],
   "source": []
  }
 ],
 "metadata": {
  "kernelspec": {
   "display_name": "Python 3 (ipykernel)",
   "language": "python",
   "name": "python3"
  },
  "language_info": {
   "codemirror_mode": {
    "name": "ipython",
    "version": 3
   },
   "file_extension": ".py",
   "mimetype": "text/x-python",
   "name": "python",
   "nbconvert_exporter": "python",
   "pygments_lexer": "ipython3",
   "version": "3.10.9"
  }
 },
 "nbformat": 4,
 "nbformat_minor": 5
}
